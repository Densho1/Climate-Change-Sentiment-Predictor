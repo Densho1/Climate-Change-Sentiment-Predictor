{
 "cells": [
  {
   "cell_type": "markdown",
   "id": "e41af391",
   "metadata": {},
   "source": [
    "# Climate Change Sentiment Predictor\n",
    "\n",
    "This project aims to develop a program that, given a tweet relating to climate change, can predict whether the user's sentiment is sympathetic regarding climate change or not. Using data from a dataset of tweets with a manually labeled sentiment to train from, we aim to help future analysis regarding climate change through this program that looks into human sentiments through tweets. By providing a program that automatically labels sentiments, this project can easily provide future research with numerous and timely data to use.\n",
    "\n",
    "This project is developed by:\n",
    "\n",
    "- Alvarado, Enrique Luis\n",
    "- Bassig, Lance Raphael\n",
    "- Roxas, Dennis Christian\n",
    "- Surara, Ron Christian"
   ]
  },
  {
   "cell_type": "markdown",
   "id": "cf41532e",
   "metadata": {},
   "source": [
    "## 1. Importing the dataset and libraries"
   ]
  },
  {
   "cell_type": "code",
   "execution_count": 10,
   "id": "5276f0a2",
   "metadata": {
    "scrolled": false
   },
   "outputs": [
    {
     "data": {
      "text/html": [
       "<div>\n",
       "<style scoped>\n",
       "    .dataframe tbody tr th:only-of-type {\n",
       "        vertical-align: middle;\n",
       "    }\n",
       "\n",
       "    .dataframe tbody tr th {\n",
       "        vertical-align: top;\n",
       "    }\n",
       "\n",
       "    .dataframe thead th {\n",
       "        text-align: right;\n",
       "    }\n",
       "</style>\n",
       "<table border=\"1\" class=\"dataframe\">\n",
       "  <thead>\n",
       "    <tr style=\"text-align: right;\">\n",
       "      <th></th>\n",
       "      <th>id</th>\n",
       "      <th>date</th>\n",
       "      <th>retweets</th>\n",
       "      <th>source</th>\n",
       "      <th>author</th>\n",
       "      <th>likes</th>\n",
       "      <th>text</th>\n",
       "      <th>twitter_name</th>\n",
       "      <th>location</th>\n",
       "      <th>verified</th>\n",
       "      <th>followers</th>\n",
       "      <th>friends</th>\n",
       "      <th>polarity</th>\n",
       "      <th>subjectivity</th>\n",
       "      <th>sympathy?</th>\n",
       "    </tr>\n",
       "  </thead>\n",
       "  <tbody>\n",
       "    <tr>\n",
       "      <th>0</th>\n",
       "      <td>2184934963</td>\n",
       "      <td>2020-12-22 23:22:20</td>\n",
       "      <td>71</td>\n",
       "      <td>Twitter Web App</td>\n",
       "      <td>GO GREEN</td>\n",
       "      <td>91</td>\n",
       "      <td>The death of summer Arctic ice our Earth coole...</td>\n",
       "      <td>ECOWARRIORSS</td>\n",
       "      <td>NaN</td>\n",
       "      <td>False</td>\n",
       "      <td>23415</td>\n",
       "      <td>20439</td>\n",
       "      <td>-0.054365</td>\n",
       "      <td>0.426984</td>\n",
       "      <td>news</td>\n",
       "    </tr>\n",
       "    <tr>\n",
       "      <th>1</th>\n",
       "      <td>508658626</td>\n",
       "      <td>2020-12-10 14:30:00</td>\n",
       "      <td>14</td>\n",
       "      <td>Twitter for Advertisers</td>\n",
       "      <td>Elsevier Energy</td>\n",
       "      <td>98</td>\n",
       "      <td>Elsevier and the EditorsinChief are pleased to...</td>\n",
       "      <td>ElsevierEnergy</td>\n",
       "      <td>Oxford, England</td>\n",
       "      <td>False</td>\n",
       "      <td>6615</td>\n",
       "      <td>508</td>\n",
       "      <td>0.387500</td>\n",
       "      <td>0.633333</td>\n",
       "      <td>news</td>\n",
       "    </tr>\n",
       "    <tr>\n",
       "      <th>2</th>\n",
       "      <td>2607105006</td>\n",
       "      <td>2020-12-22 21:28:52</td>\n",
       "      <td>0</td>\n",
       "      <td>Twitter Web App</td>\n",
       "      <td>Arwyn Thomas</td>\n",
       "      <td>1</td>\n",
       "      <td>From better climate change education to improv...</td>\n",
       "      <td>siwarr5</td>\n",
       "      <td>Carmarthen</td>\n",
       "      <td>False</td>\n",
       "      <td>22</td>\n",
       "      <td>133</td>\n",
       "      <td>0.261905</td>\n",
       "      <td>0.345238</td>\n",
       "      <td>news</td>\n",
       "    </tr>\n",
       "    <tr>\n",
       "      <th>3</th>\n",
       "      <td>19609660</td>\n",
       "      <td>2020-12-22 21:24:10</td>\n",
       "      <td>0</td>\n",
       "      <td>Twitter Web App</td>\n",
       "      <td>Tom Gillispie, EDITOR/WRITER</td>\n",
       "      <td>0</td>\n",
       "      <td>climate change Links to FIXING CLIMATE CHANGE ...</td>\n",
       "      <td>EDITORatWORK</td>\n",
       "      <td>Rural Hall, North Carolina, USA</td>\n",
       "      <td>False</td>\n",
       "      <td>4191</td>\n",
       "      <td>3708</td>\n",
       "      <td>0.000000</td>\n",
       "      <td>0.000000</td>\n",
       "      <td>news</td>\n",
       "    </tr>\n",
       "    <tr>\n",
       "      <th>4</th>\n",
       "      <td>19609660</td>\n",
       "      <td>2020-12-21 22:52:09</td>\n",
       "      <td>1</td>\n",
       "      <td>Twitter Web App</td>\n",
       "      <td>Tom Gillispie, EDITOR/WRITER</td>\n",
       "      <td>1</td>\n",
       "      <td>climate change The 11TH HOUR FOR THE EARTH cli...</td>\n",
       "      <td>EDITORatWORK</td>\n",
       "      <td>Rural Hall, North Carolina, USA</td>\n",
       "      <td>False</td>\n",
       "      <td>4191</td>\n",
       "      <td>3708</td>\n",
       "      <td>0.000000</td>\n",
       "      <td>0.000000</td>\n",
       "      <td>anti</td>\n",
       "    </tr>\n",
       "  </tbody>\n",
       "</table>\n",
       "</div>"
      ],
      "text/plain": [
       "           id                 date  retweets                   source  \\\n",
       "0  2184934963  2020-12-22 23:22:20        71          Twitter Web App   \n",
       "1   508658626  2020-12-10 14:30:00        14  Twitter for Advertisers   \n",
       "2  2607105006  2020-12-22 21:28:52         0          Twitter Web App   \n",
       "3    19609660  2020-12-22 21:24:10         0          Twitter Web App   \n",
       "4    19609660  2020-12-21 22:52:09         1          Twitter Web App   \n",
       "\n",
       "                         author  likes  \\\n",
       "0                      GO GREEN     91   \n",
       "1               Elsevier Energy     98   \n",
       "2                  Arwyn Thomas      1   \n",
       "3  Tom Gillispie, EDITOR/WRITER      0   \n",
       "4  Tom Gillispie, EDITOR/WRITER      1   \n",
       "\n",
       "                                                text    twitter_name  \\\n",
       "0  The death of summer Arctic ice our Earth coole...    ECOWARRIORSS   \n",
       "1  Elsevier and the EditorsinChief are pleased to...  ElsevierEnergy   \n",
       "2  From better climate change education to improv...         siwarr5   \n",
       "3  climate change Links to FIXING CLIMATE CHANGE ...    EDITORatWORK   \n",
       "4  climate change The 11TH HOUR FOR THE EARTH cli...    EDITORatWORK   \n",
       "\n",
       "                          location  verified  followers  friends  polarity  \\\n",
       "0                              NaN     False      23415    20439 -0.054365   \n",
       "1                  Oxford, England     False       6615      508  0.387500   \n",
       "2                       Carmarthen     False         22      133  0.261905   \n",
       "3  Rural Hall, North Carolina, USA     False       4191     3708  0.000000   \n",
       "4  Rural Hall, North Carolina, USA     False       4191     3708  0.000000   \n",
       "\n",
       "   subjectivity sympathy?  \n",
       "0      0.426984      news  \n",
       "1      0.633333      news  \n",
       "2      0.345238      news  \n",
       "3      0.000000      news  \n",
       "4      0.000000      anti  "
      ]
     },
     "execution_count": 10,
     "metadata": {},
     "output_type": "execute_result"
    }
   ],
   "source": [
    "import numpy as np\n",
    "import pandas as pd\n",
    "import matplotlib.pyplot as plt\n",
    "import seaborn as sns\n",
    "import math\n",
    "\n",
    "import nltk.downloader\n",
    "from nltk.tokenize import RegexpTokenizer\n",
    "from nltk.corpus import stopwords\n",
    "from nltk.stem import PorterStemmer\n",
    "\n",
    "from sklearn.preprocessing import LabelEncoder\n",
    "from sklearn.feature_extraction.text import TfidfVectorizer\n",
    "\n",
    "df = pd.read_csv('Climate_Sentiments_Twitter.csv')\n",
    "df.head()"
   ]
  },
  {
   "cell_type": "markdown",
   "id": "ed4bd1ff",
   "metadata": {},
   "source": [
    "## 2. Data Preprocessing"
   ]
  },
  {
   "cell_type": "markdown",
   "id": "f9ecdd4b",
   "metadata": {},
   "source": [
    "Since working with a column that has a '?' is troublesome, we will be transforming the 'sympathy?' column to simply 'sympathy'"
   ]
  },
  {
   "cell_type": "code",
   "execution_count": 11,
   "id": "4f665ad3",
   "metadata": {},
   "outputs": [],
   "source": [
    "#Transforming the sympathy? column to sympathy\n",
    "df.rename(columns={\"sympathy?\":\"sympathy\"}, inplace=True)"
   ]
  },
  {
   "cell_type": "markdown",
   "id": "4588c0ad",
   "metadata": {},
   "source": [
    "### 2.1 Data Cleaning"
   ]
  },
  {
   "cell_type": "code",
   "execution_count": 12,
   "id": "406b7f84",
   "metadata": {
    "scrolled": true
   },
   "outputs": [
    {
     "data": {
      "text/html": [
       "<div>\n",
       "<style scoped>\n",
       "    .dataframe tbody tr th:only-of-type {\n",
       "        vertical-align: middle;\n",
       "    }\n",
       "\n",
       "    .dataframe tbody tr th {\n",
       "        vertical-align: top;\n",
       "    }\n",
       "\n",
       "    .dataframe thead th {\n",
       "        text-align: right;\n",
       "    }\n",
       "</style>\n",
       "<table border=\"1\" class=\"dataframe\">\n",
       "  <thead>\n",
       "    <tr style=\"text-align: right;\">\n",
       "      <th></th>\n",
       "      <th>text</th>\n",
       "      <th>sympathy</th>\n",
       "    </tr>\n",
       "  </thead>\n",
       "  <tbody>\n",
       "    <tr>\n",
       "      <th>0</th>\n",
       "      <td>The death of summer Arctic ice our Earth coole...</td>\n",
       "      <td>news</td>\n",
       "    </tr>\n",
       "    <tr>\n",
       "      <th>1</th>\n",
       "      <td>Elsevier and the EditorsinChief are pleased to...</td>\n",
       "      <td>news</td>\n",
       "    </tr>\n",
       "    <tr>\n",
       "      <th>2</th>\n",
       "      <td>From better climate change education to improv...</td>\n",
       "      <td>news</td>\n",
       "    </tr>\n",
       "    <tr>\n",
       "      <th>3</th>\n",
       "      <td>climate change Links to FIXING CLIMATE CHANGE ...</td>\n",
       "      <td>news</td>\n",
       "    </tr>\n",
       "    <tr>\n",
       "      <th>4</th>\n",
       "      <td>climate change The 11TH HOUR FOR THE EARTH cli...</td>\n",
       "      <td>anti</td>\n",
       "    </tr>\n",
       "  </tbody>\n",
       "</table>\n",
       "</div>"
      ],
      "text/plain": [
       "                                                text sympathy\n",
       "0  The death of summer Arctic ice our Earth coole...     news\n",
       "1  Elsevier and the EditorsinChief are pleased to...     news\n",
       "2  From better climate change education to improv...     news\n",
       "3  climate change Links to FIXING CLIMATE CHANGE ...     news\n",
       "4  climate change The 11TH HOUR FOR THE EARTH cli...     anti"
      ]
     },
     "execution_count": 12,
     "metadata": {},
     "output_type": "execute_result"
    }
   ],
   "source": [
    "#Dropping unneeded columns\n",
    "df = df[['text', 'sympathy']]\n",
    "df.head()"
   ]
  },
  {
   "cell_type": "code",
   "execution_count": 13,
   "id": "8cdc7feb",
   "metadata": {},
   "outputs": [
    {
     "data": {
      "text/plain": [
       "text   sympathy\n",
       "False  False       396\n",
       "dtype: int64"
      ]
     },
     "execution_count": 13,
     "metadata": {},
     "output_type": "execute_result"
    }
   ],
   "source": [
    "#Check if there are rows with missing values\n",
    "df.isna().value_counts()"
   ]
  },
  {
   "cell_type": "markdown",
   "id": "b1f14387",
   "metadata": {},
   "source": [
    "### 2.2 Data Encoding"
   ]
  },
  {
   "cell_type": "code",
   "execution_count": 14,
   "id": "b01dd43a",
   "metadata": {},
   "outputs": [
    {
     "data": {
      "text/html": [
       "<div>\n",
       "<style scoped>\n",
       "    .dataframe tbody tr th:only-of-type {\n",
       "        vertical-align: middle;\n",
       "    }\n",
       "\n",
       "    .dataframe tbody tr th {\n",
       "        vertical-align: top;\n",
       "    }\n",
       "\n",
       "    .dataframe thead th {\n",
       "        text-align: right;\n",
       "    }\n",
       "</style>\n",
       "<table border=\"1\" class=\"dataframe\">\n",
       "  <thead>\n",
       "    <tr style=\"text-align: right;\">\n",
       "      <th></th>\n",
       "      <th>text</th>\n",
       "      <th>sympathy</th>\n",
       "    </tr>\n",
       "  </thead>\n",
       "  <tbody>\n",
       "    <tr>\n",
       "      <th>0</th>\n",
       "      <td>The death of summer Arctic ice our Earth coole...</td>\n",
       "      <td>2</td>\n",
       "    </tr>\n",
       "    <tr>\n",
       "      <th>1</th>\n",
       "      <td>Elsevier and the EditorsinChief are pleased to...</td>\n",
       "      <td>2</td>\n",
       "    </tr>\n",
       "    <tr>\n",
       "      <th>2</th>\n",
       "      <td>From better climate change education to improv...</td>\n",
       "      <td>2</td>\n",
       "    </tr>\n",
       "    <tr>\n",
       "      <th>3</th>\n",
       "      <td>climate change Links to FIXING CLIMATE CHANGE ...</td>\n",
       "      <td>2</td>\n",
       "    </tr>\n",
       "    <tr>\n",
       "      <th>4</th>\n",
       "      <td>climate change The 11TH HOUR FOR THE EARTH cli...</td>\n",
       "      <td>-1</td>\n",
       "    </tr>\n",
       "  </tbody>\n",
       "</table>\n",
       "</div>"
      ],
      "text/plain": [
       "                                                text  sympathy\n",
       "0  The death of summer Arctic ice our Earth coole...         2\n",
       "1  Elsevier and the EditorsinChief are pleased to...         2\n",
       "2  From better climate change education to improv...         2\n",
       "3  climate change Links to FIXING CLIMATE CHANGE ...         2\n",
       "4  climate change The 11TH HOUR FOR THE EARTH cli...        -1"
      ]
     },
     "execution_count": 14,
     "metadata": {},
     "output_type": "execute_result"
    }
   ],
   "source": [
    "#Transforming the sympathy column to numerical values using the replacement method\n",
    "params = {\"anti\": -1, \"neutral\": 0, \"pro\": 1, \"news\": 2}\n",
    "df['sympathy'].replace(params, inplace=True)\n",
    "df.head()"
   ]
  },
  {
   "cell_type": "markdown",
   "id": "d6a39c26",
   "metadata": {},
   "source": [
    "### 2.3 Data Representation"
   ]
  },
  {
   "cell_type": "code",
   "execution_count": 15,
   "id": "0fa86e92",
   "metadata": {},
   "outputs": [
    {
     "data": {
      "text/html": [
       "<div>\n",
       "<style scoped>\n",
       "    .dataframe tbody tr th:only-of-type {\n",
       "        vertical-align: middle;\n",
       "    }\n",
       "\n",
       "    .dataframe tbody tr th {\n",
       "        vertical-align: top;\n",
       "    }\n",
       "\n",
       "    .dataframe thead th {\n",
       "        text-align: right;\n",
       "    }\n",
       "</style>\n",
       "<table border=\"1\" class=\"dataframe\">\n",
       "  <thead>\n",
       "    <tr style=\"text-align: right;\">\n",
       "      <th></th>\n",
       "      <th>text</th>\n",
       "    </tr>\n",
       "  </thead>\n",
       "  <tbody>\n",
       "    <tr>\n",
       "      <th>0</th>\n",
       "      <td>The death of summer Arctic ice our Earth coole...</td>\n",
       "    </tr>\n",
       "    <tr>\n",
       "      <th>1</th>\n",
       "      <td>Elsevier and the EditorsinChief are pleased to...</td>\n",
       "    </tr>\n",
       "    <tr>\n",
       "      <th>2</th>\n",
       "      <td>From better climate change education to improv...</td>\n",
       "    </tr>\n",
       "    <tr>\n",
       "      <th>3</th>\n",
       "      <td>climate change Links to FIXING CLIMATE CHANGE ...</td>\n",
       "    </tr>\n",
       "    <tr>\n",
       "      <th>4</th>\n",
       "      <td>climate change The 11TH HOUR FOR THE EARTH cli...</td>\n",
       "    </tr>\n",
       "  </tbody>\n",
       "</table>\n",
       "</div>"
      ],
      "text/plain": [
       "                                                text\n",
       "0  The death of summer Arctic ice our Earth coole...\n",
       "1  Elsevier and the EditorsinChief are pleased to...\n",
       "2  From better climate change education to improv...\n",
       "3  climate change Links to FIXING CLIMATE CHANGE ...\n",
       "4  climate change The 11TH HOUR FOR THE EARTH cli..."
      ]
     },
     "execution_count": 15,
     "metadata": {},
     "output_type": "execute_result"
    }
   ],
   "source": [
    "#Creating the feature(s) and target vectors\n",
    "features = df.drop(\"sympathy\", axis=1)\n",
    "target = df[\"sympathy\"]\n",
    "\n",
    "features.head()"
   ]
  },
  {
   "cell_type": "markdown",
   "id": "663c0926",
   "metadata": {},
   "source": [
    "### 2.4 Text Data Tokenization"
   ]
  },
  {
   "cell_type": "code",
   "execution_count": 16,
   "id": "9a52a5e9",
   "metadata": {
    "scrolled": true
   },
   "outputs": [],
   "source": [
    "#Tokenize the text data using RegexpTokenizer\n",
    "textdata = features['text']\n",
    "n = len(textdata)\n",
    "tokenizer = RegexpTokenizer(r'\\w+')\n",
    "tokenizedtext = []\n",
    "\n",
    "for i in range(n):\n",
    "    #Convert text data to lowercase\n",
    "    lower = textdata.iloc[i].lower()\n",
    "    \n",
    "    #Tokenize\n",
    "    wordsarray = tokenizer.tokenize(lower)\n",
    "    tokenizedtext.append(wordsarray)\n",
    "\n",
    "#print(tokenizedText)"
   ]
  },
  {
   "cell_type": "markdown",
   "id": "7b41bad8",
   "metadata": {},
   "source": [
    "### 2.5 Text Data Cleaning"
   ]
  },
  {
   "cell_type": "code",
   "execution_count": 18,
   "id": "b4221c04",
   "metadata": {
    "scrolled": true
   },
   "outputs": [
    {
     "name": "stderr",
     "output_type": "stream",
     "text": [
      "[nltk_data] Downloading package stopwords to\n",
      "[nltk_data]     C:\\Users\\miuser\\AppData\\Roaming\\nltk_data...\n",
      "[nltk_data]   Package stopwords is already up-to-date!\n"
     ]
    }
   ],
   "source": [
    "#Removing stop words using nlkt\n",
    "nltk.download('stopwords')\n",
    "\n",
    "englishstopwords = set(stopwords.words('english'))\n",
    "shortertext = []\n",
    "\n",
    "for tweet in tokenizedText:\n",
    "    shortertweet = []\n",
    "    for word in tweet:\n",
    "        if word not in englishstopwords:\n",
    "            word = word.strip()\n",
    "            if (word.isdigit() == False and len(word) >= 2):\n",
    "                shortertweet.append(word)\n",
    "    shortertext.append(shortertweet)\n",
    "\n",
    "#print(shorterText)"
   ]
  },
  {
   "cell_type": "code",
   "execution_count": 21,
   "id": "85acc20c",
   "metadata": {},
   "outputs": [],
   "source": [
    "#Stemming using PorterStemmer\n",
    "porterstemmer = PorterStemmer()\n",
    "stemmedtext = []\n",
    "for tweet in shorterText:\n",
    "    stemmedwords = []\n",
    "    for word in tweet:\n",
    "        stemmedwords.append(porterstemmer.stem(word))\n",
    "    convertback = ' '.join(stemmedwords)\n",
    "    stemmedtext.append(convertback)\n",
    "\n",
    "#print(stemmedtext)"
   ]
  },
  {
   "cell_type": "markdown",
   "id": "dfd7df4b",
   "metadata": {},
   "source": [
    "### 2.5 Text Data Vectorization"
   ]
  },
  {
   "cell_type": "code",
   "execution_count": 26,
   "id": "4d77a2f7",
   "metadata": {},
   "outputs": [
    {
     "name": "stdout",
     "output_type": "stream",
     "text": [
      "  (0, 963)\t0.14396290965493103\n",
      "  (0, 941)\t0.1562590339345902\n",
      "  (0, 2205)\t0.22989214613677061\n",
      "  (0, 1394)\t0.21507472937029878\n",
      "  (0, 387)\t0.03991699036829031\n",
      "  (0, 39)\t0.22989214613677061\n",
      "  (0, 1320)\t0.1841108676923468\n",
      "  (0, 1106)\t0.21507472937029878\n",
      "  (0, 1477)\t0.15390052232393878\n",
      "  (0, 1302)\t0.20456160486582667\n",
      "  (0, 2372)\t0.04199392686667807\n",
      "  (0, 998)\t0.03911817722394012\n",
      "  (0, 2120)\t0.22989214613677061\n",
      "  (0, 297)\t0.20456160486582667\n",
      "  (0, 1661)\t0.28127682917628094\n",
      "  (0, 441)\t0.07686651663232236\n",
      "  (0, 2450)\t0.20456160486582667\n",
      "  (0, 2478)\t0.11611107589717445\n",
      "  (0, 2243)\t0.21507472937029878\n",
      "  (0, 2047)\t0.22989214613677061\n",
      "  (0, 221)\t0.22989214613677061\n",
      "  (0, 2500)\t0.1297302133031016\n",
      "  (0, 538)\t0.22989214613677061\n",
      "  (0, 733)\t0.13216739931717428\n",
      "  (0, 1134)\t0.1841108676923468\n",
      "  :\t:\n",
      "  (394, 1020)\t0.45214421773797714\n",
      "  (394, 387)\t0.11727209311568164\n",
      "  (394, 2372)\t0.24674784628624427\n",
      "  (394, 998)\t0.2298505212740631\n",
      "  (394, 441)\t0.11291303794216752\n",
      "  (395, 485)\t0.27465379149699004\n",
      "  (395, 824)\t0.27465379149699004\n",
      "  (395, 1532)\t0.27465379149699004\n",
      "  (395, 1219)\t0.27465379149699004\n",
      "  (395, 2295)\t0.27465379149699004\n",
      "  (395, 884)\t0.2569513176913761\n",
      "  (395, 306)\t0.2569513176913761\n",
      "  (395, 1107)\t0.24439121264143962\n",
      "  (395, 2225)\t0.24439121264143962\n",
      "  (395, 779)\t0.21995857064825464\n",
      "  (395, 2417)\t0.2043862594285433\n",
      "  (395, 1368)\t0.3439870359741805\n",
      "  (395, 825)\t0.21995857064825464\n",
      "  (395, 551)\t0.1787236861746613\n",
      "  (395, 554)\t0.1964261599802753\n",
      "  (395, 755)\t0.18668378562292934\n",
      "  (395, 387)\t0.047689113934659154\n",
      "  (395, 2372)\t0.05017044482641266\n",
      "  (395, 998)\t0.04673476615688476\n",
      "  (395, 441)\t0.045916488638271545\n",
      "{'death': 608, 'summer': 2111, 'arctic': 173, 'ice': 1134, 'earth': 733, 'cooler': 538, 'year': 2500, 'away': 221, 'sooner': 2047, 'trigger': 2243, 'world': 2478, 'wide': 2450, 'climat': 441, 'planet': 1661, 'break': 297, 'supercharg': 2120, 'global': 998, 'warm': 2372, 'leav': 1302, 'much': 1477, 'hostil': 1106, 'life': 1320, 'abrupt': 39, 'chang': 387, 'matter': 1394, 'timeend': 2205, 'fossil': 941, 'fuel': 963, 'elsevi': 765, 'editorsinchief': 751, 'pleas': 1675, 'share': 1982, 'first': 911, 'volum': 2357, 'energi': 783, 'avail': 214, 'sciencedirect': 1938, 'get': 991, 'free': 952, 'access': 47, 'june': 1249, 'better': 254, 'educ': 753, 'improv': 1160, 'sustain': 2130, 'here': 1085, 'got': 1017, 'right': 1883, 'environment': 800, 'justic': 1250, 'environ': 799, 'hometopstori': 1101, 'link': 1327, 'fix': 915, 'climatechang': 446, 'co2': 477, '11th': 2, 'hour': 1110, 'globalwarm': 1002, 'scientist': 1940, 'govern': 1020, 'discuss': 688, 'debat': 609, 'effect': 755, 'littl': 1330, 'donehav': 703, 'look': 1346, 'centuryenviron': 378, 'grow': 1044, 'impact': 1152, 'alreadi': 124, 'push': 1778, 'million': 1434, 'peopl': 1627, 'migrat': 1427, 'within': 2467, 'south': 2052, 'asian': 189, 'countri': 554, 'could': 551, 'tripl': 2246, 'continu': 530, 'current': 581, 'path': 1617, 'research': 1859, 'warn': 2403, 'reuter': 1870, 'desert': 650, 'forest': 935, 'turn': 2265, 'feder': 886, 'reserv': 1860, 'tuesday': 2263, 'took': 2223, 'signific': 2004, 'step': 2085, 'forward': 940, 'announc': 148, 'join': 1243, 'group': 1043, 'central': 375, 'bank': 230, 'focus': 925, 'root': 1900, 'risk': 1888, 'pose': 1700, 'financi': 902, 'system': 2140, 'via': 2342, 'grist': 1041, 'cravecr': 561, 'johnjakest': 1241, 'ordinari': 1580, 'men': 1413, 'requir': 1857, 'read': 1804, 'human': 1118, 'posit': 1702, 'powerthalidomidecovid': 1717, 'amp': 140, 'lie': 1319, 'built': 316, 'inconveni': 1165, 'truthsbabi': 2257, 'boomer': 284, 'bust': 329, 'due': 727, 'season': 1947, 'flu': 922, 'old': 1568, 'agemilankovitch': 78, 'cycl': 585, 'caus': 363, 'changeobliqu': 403, 'thalidomidecovid': 2174, 'warmingprecess': 2396, 'tsunami': 2261, 'vernal': 2341, 'equinoxeswwg1wga': 811, 'like': 1324, 'atmospher': 197, 'circul': 430, 'progress': 1755, 'revert': 1872, 'situat': 2017, 'similar': 2007, 'agoclimatechang': 85, 'climateact': 442, 'planetwarm': 1665, 'carbon': 349, 'dioxid': 677, 'emiss': 771, 'build': 312, 'construct': 522, 'jeopardis': 1235, 'goal': 1010, 'keep': 1258, 'devast': 661, 'bay': 235, 'ocean': 1557, 'contribut': 532, 'storm': 2096, 'drop': 720, 'feet': 889, 'snow': 2033, 'town': 2228, 'japan': 1232, 'week': 2426, 'isnt': 1222, 'kind': 1266, 'weird': 2430, 'defin': 625, 'redefin': 1827, 'live': 1333, 'decad': 613, 'come': 490, 'new': 1509, 'cut': 583, 'globeandmail': 1005, 'wonder': 2471, 'whyth': 2449, 'media': 1407, 'govt': 1021, 'usth': 2325, 'milankovitch': 1430, 'equinoxescovid': 808, 'babi': 222, 'age': 76, 'industri': 1181, 'expect': 844, 'wont': 2472, 'slow': 2027, 'pace': 1595, 'serv': 1973, 'uniqu': 2296, 'opportun': 1575, 'secur': 1953, 'longterm': 1345, 'follow': 927, 'econom': 744, 'recoveri': 1822, 'align': 114, 'tackl': 2144, 'un': 2276, 'scienc': 1937, 'report': 1855, 'said': 1912, 'way': 2411, 'manag': 1371, 'land': 1286, 'food': 928, 'produc': 1748, 'consum': 523, 'curb': 579, 'health': 1075, 'biodivers': 268, 'would': 2485, 'riskclimatechang': 1889, 'oil': 1566, 'major': 1367, 'exxon': 857, 'mobil': 1449, 'corp': 545, 'monday': 1456, 'plan': 1658, 'reduc': 1828, 'greenhous': 1032, 'ga': 974, 'next': 1515, 'five': 914, 'investor': 1212, 'campaign': 337, 'ratchet': 1796, 'pressur': 1730, 'action': 56, 'limit': 1325, 'emerg': 769, 'call': 336, 'guterr': 1050, 'unit': 2297, 'nation': 1491, 'secretarygener': 1949, 'antonio': 159, 'speech': 2063, 'summit': 2112, 'leader': 1299, 'take': 2146, 'avoid': 217, 'declar': 620, 'prefer': 1722, 'per': 1628, 'pari': 1606, 'agreement': 90, 'chosen': 427, 'significantli': 2005, 'fightfor1point5': 896, 'fridaysforfutur': 959, 'digitalstrik': 675, 'climatestrikeonlin': 467, 'klimat': 1271, 'taarininb': 2142, 'behavior': 245, 'natur': 1495, 'rain': 1785, 'today': 2210, 'even': 825, 'night': 1518, 'till': 2201, '13th': 3, 'decemb': 615, 'mumbai': 1480, 'unseason': 2302, 'alarm': 104, 'nov': 1534, 'montha': 1463, 'winter': 2462, 'month': 1462, 'record': 1819, 'condit': 508, 'persist': 1639, 'larg': 1287, 'swath': 2133, 'changeglob': 400, 'fm': 923, 'tea': 2156, 'ricelif': 1876, 'stylebodi': 2109, 'shapebehaviour': 1981, 'yrsour': 2511, 'gener': 985, 'ghg': 993, 'rapidli': 1794, 'exceed': 837, '15c': 5, 'parisagr': 1607, 'seek': 1957, '2c': 20, 'senat': 1964, 'unep': 2287, 'polit': 1689, 'noaa': 1522, 'nw': 1544, 'noaanceiclim': 1523, 'nobodi': 1525, 'happier': 1062, 'wacko': 2366, 'lyin': 1360, 'jiebiden': 1238, 'might': 1426, 'presid': 1726, 'hoax': 1097, 'cool': 537, 'oop': 1571, 'perpetu': 1638, 'newblog': 1510, 'local': 1337, 'discours': 686, 'commun': 496, 'around': 177, 'make': 1368, 'sens': 1965, 'domen': 699, 'rotundoread': 1902, 'constitut': 521, 'understand': 2285, 'multiperspect': 1478, 'highlight': 1090, 'need': 1500, 'interdisciplinari': 1204, 'studi': 2106, 'area': 174, 'outnow': 1586, 'oa': 1549, 'michael': 1423, 'brggemann': 300, 'simon': 2008, 'rdder': 1801, 'edsread': 752, 'download': 711, 'titl': 2208, 'andor': 144, 'hard': 1065, 'copi': 541, 'degre': 628, 'celsiu': 373, 'fahrenheit': 865, 'say': 1924, 'catastroph': 361, 'wind': 2459, 'product': 1749, 'everi': 829, '2030globalwarm': 16, 'deniseshrivel': 641, 'mani': 1373, 'australian': 210, 'actual': 59, 'urgent': 2317, 'overarch': 1588, 'threat': 2192, 'changeat': 392, '2degeesc': 21, 'coral': 542, 'survivegreatbarrierreef': 2129, 'critic': 570, 'mass': 1388, 'bleach': 276, 'marin': 1383, 'heat': 1078, 'wavesw': 2410, 'fast': 878, 'run': 1905, 'timeclim': 2204, 'worri': 2482, 'realiz': 1809, 'may': 1396, 'shed': 1987, 'us': 2318, 'viru': 2351, 'burn': 321, 'induc': 1180, 'fever': 892, 'none': 1527, 'exist': 841, 'still': 2088, 'existi': 842, 'one': 1569, 'welcom': 2431, 'sweet': 2136, 'silenc': 2006, 'erad': 814, 'newzealand': 1514, 'state': 2078, 'accord': 48, 'island': 1221, 'particularli': 1613, 'affect': 72, 'rtd': 1904, 'associ': 194, 'professor': 1753, 'cotton': 550, 'univers': 2298, 'assam': 192, 'type': 2270, 'compon': 502, 'issu': 1223, 'led': 1304, 'also': 125, 'green': 1030, 'hous': 1111, 'doubl': 709, 'amount': 139, 'coal': 480, 'consist': 520, 'latest': 1294, 'fossilfuel': 942, 'productiongap': 1750, 'optimist': 1577, 'analysi': 141, 'netzero': 1506, 'target': 2151, 'indic': 1178, 'fight': 895, 'warminga': 2376, '21c': 18, 'level': 1314, 'threaten': 2193, 'planetw': 1664, 'real': 1806, 'account': 49, 'reduct': 1829, 'shadycross': 1979, 'youtub': 2509, 'probabl': 1745, 'dont': 706, 'know': 1272, 'wss': 2493, 'refer': 1831, 'tonazaren': 2221, 'meant': 1403, 'truth': 2256, 'tellerlik': 2164, 'equinox': 807, 'lifetim': 1321, 'tmischuk': 2209, 'canadainperil': 339, 'lumberist': 1357, 'rat': 1795, 'flee': 918, 'sink': 2014, 'ship': 1990, 'vtvl': 2364, 'rocket': 1896, 'space': 2054, 'arcsmilankovitch': 172, 'equinoxesearth': 810, 'close': 472, 'loop': 1347, 'self': 1961, 'regul': 1841, 'maparker21': 1380, 'burnth': 323, 'equinoxescovid1984': 809, 'sure': 2123, 'wish': 2466, 'concern': 507, 'coronaviru': 544, 'go': 1009, 'kill': 1265, 'displac': 689, 'harm': 1067, 'ever': 828, 'willprior': 2457, 'lamphieryeg': 1285, 'that': 2176, 'stop': 2092, 'argu': 175, 'wtf': 2494, 'denier': 640, 'realli': 1810, 'stupid': 2108, 'fuck': 962, 'sinist': 2013, 'agenda': 80, 'justintrudeau': 1252, 'bidenharri': 261, 'johnkerri': 1242, 'joebiden': 1240, 'mean': 1402, 'eu': 822, 'log': 1339, 'acr': 53, 'bio': 267, 'wood': 2473, 'increas': 1168, 'emissionsfuel': 772, 'keepitintheground': 1259, 'ran': 1791, 'presidenti': 1728, 'primari': 1736, 'name': 1487, 'special': 2061, 'envoy': 804, 'congratul': 513, 'mr': 1474, 'kerri': 1261, 'activ': 57, 'advoc': 71, 'demvoice1': 637, 'ago': 84, 'began': 243, 'see': 1954, 'someth': 2045, 'els': 764, 'surround': 2126, 'homeso': 1100, 'millet': 1433, 'author': 213, 'wrote': 2492, 'often': 1564, 'use': 2322, 'interchang': 1203, 'two': 2268, 'term': 2170, 'distinct': 691, 'check': 419, 'interest': 1205, 'resourc': 1865, 'nasa': 1489, 'definit': 626, 'greenparti': 1037, 'climatepart': 463, 'iiplasticsimpact': 1143, 'changeplast': 405, 'petroleum': 1645, 'plastic': 1670, 'wast': 2406, 'inciner': 1162, 'releas': 1843, 'therebi': 2182, 'react': 1802, 'urgenc': 2316, 'crisi': 568, 'red': 1824, 'cross': 572, 'greater': 1026, 'covid19read': 559, 'climatecrisi': 454, 'larger': 1288, 'recent': 1817, 'act': 55, 'warmingclim': 2380, 'climateemerg': 456, 'unfccc': 2289, 'covid19': 558, 'covid19s63': 560, 'climatejusticenow': 460, 'climatejustic': 459, 'save': 1921, 'import': 1156, 'warmingglob': 2386, 'mrbeastyt': 1475, 'tsunamiseccentr': 2262, 'triggercovid': 2245, 'agethes': 81, 'truthswwg1wga': 2260, 'covid': 557, 'truthsmilankovitch': 2259, 'equinoxseccentr': 812, 'obliqu': 1552, 'eccentr': 739, 'triggerbuildthatwal': 2244, 'buildthatrrcovid': 315, 'realdonaldtrump': 1807, 'briankempga': 302, 'reaction': 1803, 'halfadozen': 1056, 'lead': 1298, 'acknowledg': 52, 'schemat': 1932, 'vari': 2333, 'sharpli': 1985, 'carbonemiss': 351, 'changemay': 402, 'sept': 1968, 'amazon': 130, 'destroy': 655, 'brazil': 295, 'alonebidenharris2020': 121, 'impos': 1158, 'sanction': 1915, 'sake': 1914, 'reportno': 1856, 'longer': 1343, 'possibl': 1703, 'contain': 526, 'degreestim': 629, 'war': 2370, 'auspol': 207, 'glacier': 996, 'china': 424, 'bleak': 277, 'qilian': 1780, 'mountain': 1470, 'disappear': 681, 'shock': 1992, 'rate': 1797, 'bring': 304, 'unpredict': 2301, 'rais': 1789, 'prospect': 1764, 'cripplinglongterm': 567, 'water': 2408, 'shortag': 1995, 'sayglobalwarm': 1925, 'presidentelect': 1727, 'joe': 1239, 'biden': 260, 'pois': 1684, 'emb': 768, 'across': 54, 'breadth': 296, 'depart': 644, 'agricultur': 91, 'treasuri': 2238, 'expand': 843, 'beyond': 255, 'agenc': 79, 'speed': 2064, 'effort': 757, 'mitig': 1445, 'washingtonpost': 2405, 'app': 165, 'partner': 1614, 'uea': 2274, 'info': 1187, 'truthscovid': 2258, 'ageclim': 77, 'cyclesobliqu': 586, 'form': 936, 'changeamazon': 391, 'fire': 908, 'jump': 1248, 'acceler': 45, 'disconnect': 685, 'ask': 190, 'compani': 497, 'time': 2203, 'reassess': 1813, 'approach': 169, 'engag': 785, 'businesswid': 328, '354c': 24, 'esg': 816, 'tyinconveni': 2269, 'perenni': 1632, 'prophet': 1761, 'doomclim': 707, 'upcovid19': 2308, 'trudeauworstpmev': 2249, 'cathmckenna': 362, 'never': 1508, 'murder': 1481, 'inconvenientclim': 1166, 'curv': 582, 'co2clim': 478, 'changecop': 399, 'warmingsmart': 2398, 'phone': 1648, 'charger': 414, 'solar': 2041, 'panel': 1601, 'set': 1976, 'ground': 1042, 'wanna': 2368, 'lawsuit': 1296, 'changecaus': 394, 'effectsclimatechang': 756, 'savetheplanet': 1922, 'climatechangeisr': 450, 'climatestrik': 466, 'earthday': 734, 'sk': 2019, 'weekli': 2427, 'news': 1511, 'roundup': 1903, '43skeptic': 27, 'post': 1706, 'octob': 1559, '2020a': 15, '2nd': 22, 'sever': 1978, 'irrevers': 1220, 'climateno': 462, 'joke': 1244, 'disastr': 684, 'scale': 1926, 'millennia': 1431, 'trump': 2252, 'rollback': 1898, 'disast': 682, 'done': 702, 'wors': 2483, 'vote': 2362, 'care': 355, 'noth': 1533, 'enviro': 798, 'must': 1482, 'stoppt': 2094, 'bidentrumpbidenclim': 262, 'debunk': 611, 'agodemocratsarecorrupt': 86, 'tcot': 2155, 'weehawk': 2425, 'smarter': 2029, 'prove': 1770, 'rescu': 1858, 'tell': 2163, 'rake': 1790, 'dumb': 729, 'ass': 191, 'bullsht': 317, 'cat': 360, 'trumpmeltdown': 2254, 'idiot': 1139, 'petebuttigieg': 1643, 'claim': 434, 'whatev': 2437, 'wwii': 2496, 'pick': 1652, 'drive': 718, 'priu': 1743, 'beach': 239, 'normandi': 1530, 'fukng': 965, 'greennewd': 1036, 'trump2020': 2253, 'there': 2181, 'warmingnaishateam': 2392, 'kosmosenviron': 1278, 'lgbtq': 1316, 'lgbt': 1315, 'teamkosmo': 2159, 'parodyglob': 1609, 'didnt': 668, 'stick': 2087, 'braid': 292, 'ht': 1115, 'gddub': 983, 'centuryclim': 377, 'centuri': 376, 'possibleasalw': 1704, 'experienc': 846, 'drought': 721, 'nowfrom': 1536, 'nytim': 1548, 'made': 1362, 'exemplifi': 840, 'trend': 2241, 'toward': 2227, 'extrem': 856, 'weather': 2417, 'three': 2194, 'mustread': 1483, 'book': 282, 'changewhat': 409, 'instead': 1197, 'bookstor': 283, 'librari': 1318, 'everyth': 832, 'relat': 1842, 'attribut': 204, 'billion': 266, 'ton': 2220, 'well': 2432, 'co2emiss': 479, 'spectalit': 2062, 'mould': 1469, 'reconsid': 1818, 'correspond': 546, 'warmingi': 2389, 'give': 994, 'donat': 701, 'organ': 1581, 'timethi': 2206, 'earn': 732, 'capit': 347, 'gainsclim': 976, 'changecapit': 393, 'gain': 975, 'think': 2186, 'togeth': 2214, 'warmingfirst': 2384, 'canclim': 341, 'warminggreen': 2387, 'climatechangeglob': 449, 'faster': 879, 'daysasymmetr': 605, 'day': 603, 'temperatur': 2166, 'part': 1610, 'consequ': 517, 'speci': 2060, 'inhabit': 1189, 'region': 1836, 'abil': 37, 'adapt': 63, 'face': 861, 'overpopul': 1589, 'warmingdo': 2382, 'famili': 872, 'unhabitat': 2290, 'unhabitatyouth': 2291, 'ippf': 1217, 'fp2020global': 948, 'getittogetherng': 992, 'afpnow': 73, 'popcouncil': 1698, 'pmnch': 1680, 'begin': 244, 'end': 779, 'changeclimatechang': 397, 'renewableenergi': 1852, 'sunwatt': 2117, 'litter': 1329, 'poverti': 1714, 'hear': 1077, 'voic': 2355, 'anim': 146, 'plant': 1666, 'deforest': 627, 'shout': 1997, 'activist': 58, 'move': 1471, 'emsusglob': 776, 'warminggreenepapollutionclim': 2388, 'changesustainabilityagencydepenvironment': 407, 'pollutionlink': 1694, 'registr': 1838, 'neutral': 1507, 'lower': 1353, 'project': 1756, '03c': 0, 'biggest': 265, 'singl': 2011, 'estim': 819, 'result': 1867, 'polici': 1688, 'tracker': 2231, 'occur': 1556, 'rainforestamazon': 1787, 'deliber': 631, 'burnt': 322, 'downmillion': 712, 'divers': 694, 'lung': 1359, 'lot': 1350, 'disastersmayb': 683, 'warmingit': 2391, 'eye': 859, 'warmingin': 2390, 'case': 359, 'electr': 762, 'sun': 2113, 'sunni': 2115, 'dayclim': 604, 'warmingnatur': 2393, 'york': 2506, 'clock': 471, 'told': 2215, 'remain': 1847, 'prevent': 1732, 'becom': 242, 'satellit': 1919, 'technolog': 2160, 'data': 594, 'iri': 1218, 'gather': 981, 'methan': 1416, 'potenti': 1711, 'game': 977, 'gtgtgt': 1047, 'increasingli': 1169, 'urban': 2313, 'citiesalreadi': 432, 'respons': 1866, 'greenhousega': 1033, 'emissionsto': 773, 'let': 1313, 'engage4impact': 786, 'past': 1616, 'string': 2101, 'advers': 70, 'sign': 2003, 'damag': 590, 'pannel': 1602, 'decreas': 622, 'saintkaterictr': 1913, 'obama': 1550, '2013sea': 13, 'rise': 1886, 'citiesobama': 433, '2019buy': 14, 'dollar': 698, 'mansion': 1377, 'martha': 1386, 'vineyardglob': 2345, 'bsthe': 310, 'goalglob': 1011, 'ap': 163, 'allow': 117, 'yet': 2504, 'pour': 1713, 'petrol': 1644, 'flame': 916, 'parliament': 1608, 'transit': 2235, 'fund': 967, 'inform': 1188, 'center': 374, 'cosmet': 548, 'everyon': 831, 'number': 1541, '10c': 1, '18f': 8, 'lsorecaeu': 1354, 'vonderleyen': 2360, 'boss': 288, 'spoke': 2067, 'todaysh': 2212, 'thing': 2185, 'big': 263, 'house1': 1112, 'robots3': 1895, 'brexit': 299, 'plan4': 1659, 'migrationsfight': 1429, 'ye': 2499, 'molotov': 1453, 'cocktail': 482, 'arsonexpos': 181, 'cult': 578, 'candid': 342, 'gave': 982, 'yesterday': 2503, 'undeni': 2280, 'punish': 1776, 'realiti': 1808, 'warmingour': 2394, 'parti': 1611, 'protocol': 1768, 'endless': 780, 'california': 335, 'poor': 1696, 'clean': 437, 'sweep': 2135, 'debri': 610, 'fallen': 870, 'tree': 2239, 'hope': 1102, 'earli': 731, 'fake': 868, 'myfox8': 1484, 'newsom': 1512, 'playbook': 1674, 'chapter': 412, 'intent': 1201, 'start': 2076, 'funni': 970, 'boarder': 280, 'canada': 338, 'mexico': 1420, 'soft': 2038, 'cant': 344, 'stomach': 2091, 'origin': 1582, 'descript': 649, 'im': 1146, 'spade': 2055, 'pretti': 1731, 'gore': 1016, 'ahead': 94, 'bcstorm': 238, 'stakehold': 2072, 'sector': 1951, 'kick': 1264, 'method': 1418, 'adopt': 69, 'mine': 1437, 'stakehol': 2071, 'wild': 2452, 'america': 132, 'anoth': 150, 'reason': 1812, 'borisjohnson': 287, 'address': 66, 'press': 1729, 'wildfires2020': 2453, 'frequenc': 956, 'intens': 1200, 'remov': 1849, 'uptak': 2312, 'capac': 346, 'equat': 806, 'thu': 2196, 'feedback': 887, 'chevron': 421, 'jpmorgan': 1246, 'barclay': 231, 'sharehold': 1983, 'endors': 781, 'resolut': 1863, 'firm': 910, 'power': 1716, 'averag': 215, 'support': 2122, 'eiger': 759, 'eigergletsch': 760, 'swiss': 2138, 'alp': 123, 'yearsth': 2502, 'repeat': 1854, 'photo': 1649, 'show': 1998, 'webinarmeet': 2420, 'intern': 1208, 'webinar': 2419, 'host': 1105, 'gm1join': 1007, 'insight': 1196, 'expertsclimatechangewebinar': 848, 'globalwarmingwebinar': 1004, 'possibleaslw': 1705, 'stimul': 2089, 'work': 2476, 'peak': 1623, 'solv': 2044, 'weav': 2418, 'drtammisinha': 723, 'explor': 851, 'question': 1783, 'event': 826, '23rd': 19, 'uow': 2307, 'nmsaints87124': 1521, 'justthenew': 1253, 'anyth': 161, 'abcnew': 35, 'abc': 34, 'scare': 1928, 'nyc': 1545, 'underwat': 2286, 'side': 2002, 'long': 1342, 'perspect': 1641, 'help': 1081, 'unifi': 2293, 'criteria': 569, 'diegofdezsevillawordpress': 671, 'comjun': 492, 'drink': 717, 'sourc': 2051, 'diego': 670, 'fdezsevilla': 883, 'phd': 1646, 'regist': 1837, 'fyiskytv': 973, 'skynew': 2023, 'skytv': 2024, 'last': 1290, 'pontif': 1695, 'changethi': 408, 'jet': 1237, 'half': 1055, 'film': 899, 'crew': 566, 'archiv': 171, 'footag': 932, 'usedclim': 2323, 'hypocrit': 1129, 'sheet': 1989, 'greenland': 1035, 'antarctica': 152, 'whose': 2444, 'melt': 1412, 'sea': 1944, '18cm': 7, 'sinc': 2009, '1990': 10, 'match': 1391, 'intergovernment': 1206, 'worstcas': 2484, 'scenario': 1929, 'price': 1735, 'pay': 1620, 'tonn': 2222, 'cover': 556, 'cost': 549, 'model': 1450, 'calcul': 334, 'addit': 65, 'answer': 151, 'sundaythought': 2114, 'reef': 1830, 'among': 138, 'ecosystem': 747, 'unpreced': 2300, 'changeslearn': 406, 'measur': 1404, 'ensur': 792, 'surviv': 2128, 'brief': 303, 'iucnocean': 1229, 'rnc': 1892, 'hurrican': 1125, 'refus': 1833, 'believ': 247, 'climateconciousnetwork': 452, 'contact': 525, 'consciou': 516, 'network': 1505, 'websit': 2422, 'email': 767, 'climateconsciousnetworkgmailcom': 453, 'child': 422, 'gunjur': 1049, 'motiv': 1468, 'differ': 673, 'seedl': 1956, 'protect': 1766, 'unborn': 2277, 'despit': 653, 'pandem': 1600, 'diminish': 676, 'back': 223, 'deal': 607, 'percent': 1630, 'survey': 2127, 'jswatz': 1247, 'fact': 862, 'faith': 867, 'base': 232, 'decis': 619, 'andrew': 145, 'farley': 876, 'katharin': 1257, 'hayho': 1072, 'pdf': 1621, 'although': 128, 'temporari': 2167, 'perman': 1637, 'dent': 643, 'prof': 1751, 'pier': 1656, 'forster': 937, 'leed': 1305, 'bigger': 264, 'inextric': 1183, 'warmer': 2373, 'wouldv': 2487, 'without': 2468, 'kendrawrit': 1260, 'west': 2433, 'demand': 636, 'cleanercar': 439, 'problem': 1746, 'consid': 519, 'millennialsw': 1432, 'prioritiesclim': 1742, 'section': 1950, 'ipcc': 1215, 'readi': 1805, 'glasgow': 997, 'cop26': 539, 'novemb': 1535, 'synthesi': 2139, 'main': 1365, 'count': 553, 'airpollut': 97, 'appear': 168, 'howev': 1113, 'concentr': 505, 'pollut': 1692, 'air': 96, 'asegun': 188, 'henri': 1082, 'grand': 1024, 'thermal': 2183, 'challeng': 385, 'stem': 2083, 'tide': 2200, 'mission': 1443, 'extinct': 854, 'mit': 1444, 'kthresearch': 1280, 'gretathunberg': 1039, 'leodicaprio': 1310, 'algor': 110, 'reveal': 1871, 'high': 1087, 'sensit': 1967, 'polar': 1685, 'physorgcom': 1651, 'scichat': 1935, 'jc': 1233, 'role': 1897, 'tropic': 2248, 'midlatitud': 1425, 'cloudradi': 474, 'seedbom': 1955, 'udbhava': 2273, 'plantat': 1667, 'thaw': 2177, 'undermin': 2282, 'soil': 2039, 'beneath': 250, 'conocophillip': 515, 'propos': 1763, 'willow': 2456, 'drill': 716, 'alaska': 106, 'north': 1531, 'slope': 2025, 'rig': 1882, 'road': 1893, 'vulner': 2365, 'aggrav': 82, 'present': 1725, 'cours': 555, 'moment': 1454, 'invest': 1211, 'buildbackbett': 313, 'carbonbrief': 350, 'prafullsundriy1': 1718, 'talk': 2148, 'student': 2104, 'hillman': 1092, 'school': 1933, 'agra': 88, 'humbl': 1121, 'attempt': 200, 'happi': 1061, 'independ': 1172, 'indianindependenceday': 1177, 'depend': 645, 'precipit': 1721, 'belov': 248, 'children': 423, 'icemelt': 1137, 'normal': 1529, 'happen': 1060, 'michaelchrichton': 1424, 'stateoffear': 2080, 'littleknown': 1331, 'verifi': 2339, '3global': 26, 'primarili': 1737, 'higher': 1088, 'nighttim': 1519, 'low': 1352, 'especi': 817, 'near': 1498, 'polesclim': 1687, 'climateangst': 444, 'detail': 658, 'amerikanern': 135, 'har': 1063, 'funnet': 969, 'ut': 2326, 'det': 657, 'finn': 907, 'fiktiv': 897, 'kriser': 1279, 'og': 1565, 'virkelig': 2350, 'exclus': 839, 'poll': 1691, 'amid': 136, 'american': 134, 'anymor': 160, 'forum': 939, 'gwpf': 1052, 'raini': 1788, 'rainfal': 1786, 'india': 1173, 'upon': 2311, 'monsoon': 1460, 'sectorenviron': 1952, 'monsoon2020': 1461, 'analyz': 142, 'anticip': 156, 'swagatadam': 2132, 'huge': 1117, 'lightn': 1323, 'thunder': 2198, 'develop': 662, 'cloud': 473, 'zaninmoreira': 2513, 'laczaru': 1283, 'planet3dnow': 1662, 'thrack': 2190, 'gover': 1019, 'solut': 2042, 'injustic': 1193, 'warmingpl': 2395, 'monkey': 1458, 'cage': 332, 'test': 2173, 'purpos': 1777, 'wrong': 2490, 'wuhanviru': 2495, 'brace': 291, 'vital': 2354, 'accur': 50, 'pictur': 1653, 'exactli': 834, 'changeclim': 395, 'uk': 2275, 'histori': 1094, 'quantamagazin': 1781, 'wait': 2367, 'late': 1292, 'visit': 2353, 'expert': 847, 'tag': 2145, '140b': 4, 'yr': 2510, 'less': 1311, 'gdp': 984, 'tomrafteri': 2219, 'scmatsap': 1941, 'supplychain': 2121, 'environmentenvironmentalimpactclimateclimatesciencepollutiongreenhousegassesglobalwarm': 803, 'manmad': 1375, 'short': 1994, 'futur': 971, 'balanc': 226, 'gase': 980, 'revolut': 1874, 'gao': 978, 'admin': 68, 'underestim': 2281, 'enabl': 777, 'justifi': 1251, 'repeal': 1853, 'weaken': 2415, 'regsharm': 1840, 'previou': 1733, '70': 29, 'shit': 1991, '80': 31, 'die': 669, 'sadli': 1910, 'renam': 1850, 'great': 1025, 'itclim': 1226, 'deep': 623, 'indian': 1174, 'deeper': 624, 'layer': 1297, 'surfac': 2124, 'pave': 1619, 'visibl': 2352, 'pattern': 1618, 'anomali': 149, 'scalevisualpersist': 1927, 'morn': 1466, 'dehradun': 630, 'pleasant': 1676, 'relief': 1846, 'humid': 1123, 'fan': 873, 'cannot': 343, 'ac': 44, 'hype': 1128, 'realread': 1811, 'equal': 805, 'ie': 1140, 'physic': 1650, 'greatli': 1028, '3c': 25, 'wipe': 2463, 'risksclim': 1890, 'conflict': 512, 'urg': 2315, 'offici': 1562, 'pass': 1615, 'legisl': 1308, 'healthi': 1076, 'vegan': 2337, 'diet': 672, 'drastic': 714, 'impactclim': 1153, 'southpol': 2053, 'itsthediet': 1228, 'govegan': 1018, 'sharetheplanet': 1984, 'newsweek': 1513, 'rightw': 1885, 'russia': 1907, 'turkey': 2264, 'philippin': 1647, 'elsewher': 766, 'outlaw': 1585, 'word': 2474, 'soreal': 2048, 'entiti': 795, 'violat': 2347, 'minnesota': 1438, 'fraud': 951, 'mislead': 1441, 'statement': 2079, '30year': 23, 'decept': 616, 'file': 898, 'wednesday': 2424, 'attorney': 202, 'warmingalarmist': 2378, 'skeptic': 2020, 'geoscientist': 988, 'climateactionnow': 443, 'regina': 1835, 'institut': 1198, 'societi': 2036, 'toxic': 2229, 'alga': 109, 'detriment': 660, 'articl': 184, 'geoengin': 987, 'unwant': 2305, 'suggest': 2110, 'bid': 259, 'stagnat': 2070, 'weat': 2416, 'nearli': 1499, 'yale': 2497, 'true': 2250, 'mankind': 1374, 'reus': 1869, 'tomorrow': 2218, 'worldrefugeeday': 2481, 'intoler': 1209, 'migrationclim': 1428, 'boost': 285, 'resili': 1861, 'warmingweworldonlu': 2402, 'unibomagazin': 2292, 'meteorologist': 1415, 'awar': 220, 'stripe': 2102, 'shown': 1999, 'depict': 646, 'showyourstrip': 2000, 'metsunit': 1419, 'gm1': 1006, 'enemi': 782, 'clathrat': 436, 'compound': 503, 'buri': 320, 'seafloor': 1945, 'runaway': 1906, 'tip': 2207, 'point': 1682, 'e2c': 730, 'total': 2225, 'failur': 866, 'cave': 364, 'c02': 331, 'risen': 1887, 'pump': 1775, 'atomalti': 198, 'gmbutt': 1008, 'cbcnew': 366, 'good': 1013, 'money': 1457, 'thrive': 2195, 'overpopulationdeforestationclim': 1590, 'crop': 571, 'gt': 1046, 'pestsjun': 1642, 'agrobiodivers': 92, 'plantbreed': 1668, 'plantpatholog': 1669, 'ipm': 1216, 'biotechnolog': 270, 'foodsecur': 929, 'iyph2020': 1230, 'genet': 986, 'interact': 1202, 'onlin': 1570, 'platform': 1672, 'design': 651, 'maker': 1369, 'busi': 326, 'assess': 193, 'weblink': 2421, 'worldenvironmentday2020': 2480, 'decarbon': 614, 'perhap': 1634, 'postpandem': 1708, 'economi': 745, 'ctvnew': 577, 'crucial': 575, 'lockdown': 1338, 'excit': 838, 'dataman': 595, 'vs': 2363, 'opinion': 1573, 'complex': 500, 'negoti': 1503, 'includ': 1163, 'write': 2488, 'unueh': 2304, 'soekreft': 2037, 'havent': 1070, 'hit': 1096, '15deg': 6, 'mark': 1384, 'frequent': 957, 'temp': 2165, 'imper': 1155, 'yaleclimatecomm': 2498, 'mind2': 1436, 'feel': 888, 'person': 1640, 'warming47': 2375, 'perceiv': 1629, 'norm': 1528, 'friend': 960, 'podcast': 1681, 'paid': 1599, 'spreaker': 2069, 'sunspot': 2116, 'theori': 2180, 'unshaken': 2303, 'accept': 46, 'promot': 1757, 'redbubbleredbubbl': 1826, 'logo': 1340, 'redbubbl': 1825, 'findyourth': 904, 'heatwav': 1079, 'planetearth': 1663, 'fantasyillustr': 874, 'decor': 621, 'apparel': 167, 'art': 183, 'tweet': 2267, 'odd': 1560, 'initi': 1192, 'danger': 592, 'changea': 390, 'easi': 735, 'found': 943, 'insect': 1195, 'tri': 2242, 'discoveri': 687, 'seriou': 1971, 'colonis': 488, 'whosearo': 2445, 'uninbangladesh': 2294, 'icddrb': 1133, 'whothailand': 2447, 'whosrilanka': 2446, 'whotimorlest': 2448, 'whomald': 2443, 'whoindonesia': 2441, 'amidst': 137, 'outbreak': 1584, 'proven': 1771, 'toughest': 2226, 'humankind': 1120, 'interlink': 1207, 'spike': 2065, 'infect': 1184, 'treenvest': 2240, 'crossroad': 573, 'solutionsthi': 2043, 'variou': 2335, 'etcfor': 821, 'order': 1579, 'innov': 1194, 'idea': 1138, 'congress': 514, 'meet': 1410, 'toxicolog': 2230, 'fundament': 968, 'againest': 75, 'changeclimatogist': 398, 'abdikarim': 36, 'hassan': 1069, 'sustainb': 2131, 'iamshaunbailey': 1131, 'adam': 61, 'arriv': 179, 'numberprofessor': 1542, 'mann': 1376, 'hockey': 1098, 'politician': 1690, 'hysteria': 1130, 'best': 252, 'transform': 2234, 'sensibl': 1966, 'mind': 1435, 'attitud': 201, 'choicesenviron': 426, 'footprint': 933, 'recycl': 1823, 'priorit': 1741, 'stimulu': 2090, 'packag': 1596, 'aim': 95, 'allevi': 116, 'chao': 411, 'engi': 787, 'ceo': 380, 'businesscovid': 327, 'corona': 543, 'brake': 294, 'workflow': 2477, 'labour': 1282, 'flow': 921, 'servic': 1974, 'mantra': 1378, 'given': 995, 'pm': 1679, 'modi': 1451, 'explain': 849, 'receivedsci': 1816, 'love': 1351, 'singapor': 2010, 'known': 1275, 'citi': 431, 'usag': 2321, 'singleus': 2012, 'distressingli': 692, 'rifereus': 1881, 'eco': 740, 'shop': 1993, 'conserv': 518, 'destruct': 656, 'naturalresourc': 1496, 'bird': 271, 'habitat': 1053, 'adamskipet': 62, 'thought': 2188, 'carbontax': 354, 'contract': 531, 'depress': 647, 'sober': 2034, 'prosperityco2climatecrisi': 1765, 'perfect': 1633, 'overal': 1587, 'cleaner': 438, 'dirti': 680, 'chanc': 386, 'utter': 2327, 'moor': 1464, 'mmflint': 1447, 'diaster': 667, 'forc': 934, 'unleash': 2299, 'awak': 219, 'experi': 845, 'underr': 2283, 'donor': 705, 'jeff': 1234, 'bezo': 256, 'sissicaoclimatechang': 2016, 'thesolarrevolut': 2184, 'freshair': 958, 'adelaid': 67, 'wettest': 2434, 'april': 170, 'strong': 2103, 'lash': 1289, 'sa': 1908, 'hottest': 1109, 'recordlockdown': 1821, 'longerterm': 1344, 'neededperspect': 1501, 'choic': 425, 'reform': 1832, 'plunder': 1678, 'aggress': 83, 'exampl': 836, 'immedi': 1150, 'warmingrememb': 2397, 'clariti': 435, 'frack': 949, 'nuclear': 1539, 'renew': 1851, 'moral': 1465, 'freedom': 954, 'objectiv': 1551, 'artpow': 187, 'agora': 87, 'finalist': 900, 'climatechange2020': 447, 'competitionearthday2020': 499, 'blog': 279, 'compet': 498, 'favorit': 882, 'emmiss': 774, 'flourish': 920, 'movement': 1472, 'parch': 1605, 'head': 1073, 'warmingfuel': 2385, 'megadrought': 1411, 'anti': 155, 'foe': 926, 'troll': 2247, 'thorium': 2187, 'nuclearenergi': 1540, 'evid': 833, 'mediev': 1408, 'period': 1635, 'drtimbal': 725, 'historybreak': 1095, 'drtim': 724, 'ball': 227, 'win': 2458, 'dr': 713, 'cure': 580, 'donald': 700, 'trumpread': 2255, 'alarmist': 105, 'chemtrail': 420, 'leftist': 1307, 'conveni': 535, 'fals': 871, 'vortex': 2361, 'biblic': 258, 'propheci': 1760, 'postul': 1709, 'princ': 1738, 'handley': 1059, 'decid': 617, 'hint': 1093, 'flatten': 917, 'massiv': 1390, 'buy': 330, 'tcafrica': 2154, 'four': 945, 'horsemen': 1104, 'apocalyps': 164, 'delltwyla': 633, 'mother': 1467, 'reboot': 1814, 'learn': 1300, 'lesson': 1312, 'vaccin': 2330, 'todayread': 2211, 'trainal': 2233, 'aboard': 38, 'yiiiiiihaaaaaaread': 2505, 'the11thhour': 2178, 'watch': 2407, 'movi': 1473, 'annett': 147, 'bene': 249, 'rant': 1793, 'globalewarm': 1000, 'hollywood': 1099, 'climatescam': 464, 'regard': 1834, 'rememb': 1848, 'attack': 199, 'sander': 1916, 'ban': 229, 'contributor': 533, 'appar': 166, 'oppos': 1576, 'put': 1779, 'equival': 813, 'tibetan': 2199, 'plateau': 1671, 'coastal': 481, 'women': 2469, 'dive': 693, 'harvest': 1068, 'battl': 234, 'driven': 719, 'profess': 1752, 'aliv': 115, 'womensright': 2470, 'miss': 1442, 'audienc': 206, 'dubai': 726, 'uae': 2271, 'change2020': 388, 'compris': 504, 'keynot': 1263, 'oral': 1578, 'poster': 1707, 'australiaov': 211, 'arrest': 178, 'arsonbut': 180, 'fakemedia': 869, 'creat': 562, 'engineeringwho': 788, 'benefit': 251, 'globalistsmaga': 1001, 'americafirst': 133, 'hand': 1058, 'todaystudi': 2213, 'combat': 489, 'climatefriendli': 457, 'vehicl': 2338, 'myth': 1485, 'themoreyouknow': 2179, 'knowledg': 1273, 'wisdom': 2464, 'hydro': 1126, 'strict': 2099, 'alsow': 127, 'neglect': 1502, 'view': 2344, 'pointglob': 1683, 'aw': 218, 'encounteredclim': 778, 'abstractssubmit': 41, 'abstract': 40, 'session': 1975, 'climaticcondit': 468, '7th': 30, 'schedul': 1931, 'inequ': 1182, 'gap': 979, 'richest': 1880, 'poorest': 1697, 'fascin': 877, 'thread': 2191, 'uw': 2328, 'uwenviron': 2329, 'mask': 1387, 'airqual': 100, 'speaker': 2059, 'confer': 510, 'uaeshar': 2272, 'young': 2507, 'studentsregist': 2105, 'confirm': 511, 'slot': 2026, 'reviv': 1873, 'rather': 1798, 'avert': 216, 'suny': 2118, 'agre': 89, 'what': 2436, 'itno': 1227, 'cold': 484, 'doesnt': 696, 'disprov': 690, 'warmingweatherprof': 2401, 'cb': 365, 'common': 495, 'almost': 119, 'humancaus': 1119, 'climatemyth': 461, 'mythbust': 1486, 'dbirch214': 606, 'left': 1306, 'scene': 1930, 'nejm': 1504, 'absurd': 42, 'argument': 176, 'valid': 2331, 'climatesciencether': 465, 'rebrand': 1815, 'conversationuk': 536, 'africa': 74, 'sahel': 1911, 'zerowast': 2514, 'insul': 1199, 'enso': 791, 'teleconnect': 2161, 'uncertainti': 2279, 'variabl': 2334, 'ecolog': 741, 'volunt': 2358, 'thunberg': 2197, 'ecologi': 742, 'greta': 1038, 'kolkata': 1277, 'publish': 1774, 'mckinsey': 1400, 'mgi': 1422, 'breakingnew': 298, 'googlenew': 1014, 'indianew': 1175, 'indianewstoday': 1176, 'mckinseyglobali': 1401, 'vintag': 2346, 'everyday': 830, 'consumer': 524, 'whilst': 2438, 'truli': 2251, 'sort': 2049, 'carlo': 356, 'buontempo': 318, 'director': 679, 'copernicuseu': 540, 'influenc': 1185, 'australia': 208, 'bushfiressuch': 325, 'least': 1301, 'find': 903, 'sciam': 1934, 'wildfiresmak': 2454, 'highrisk': 1091, 'widespread': 2451, 'henryfountain': 1083, 'satir': 1920, 'comedi': 491, 'humor': 1124, 'wbrettwilson': 2412, 'nationalpost': 1492, 'basic': 233, 'assumpt': 195, 'entir': 794, 'wrongin': 2491, 'firsttim': 913, 'ballclim': 228, '19yearold': 12, 'antigreta': 157, 'tack': 2143, 'terror': 2172, 'canadian': 340, 'nytclim': 1547, 'dream': 715, 'antisci': 158, 'privilegec': 1744, 'lobbyist': 1336, 'fulli': 966, 'exxonmobil': 858, 'map': 1379, 'bear': 240, 'icecapmelt': 1136, 'naomiseibt': 1488, 'polarbear': 1686, 'seibt': 1960, 'later': 1293, 'proud': 1769, 'british': 308, 'ski': 2021, 'resort': 1864, 'hepburn': 1084, 'lt15': 1355, 'ccommun': 368, 'emergencygretathunberg': 770, 'crowd': 574, 'ten': 2168, 'thousand': 2189, 'bristol': 305, 'prior': 1740, 'march': 1382, 'rightnow': 1884, 'flood': 919, 'ciara': 429, 'denni': 642, 'jorg': 1245, 'scientif': 1939, 'offset': 1563, 'multitud': 1479, 'increment': 1171, 'content': 527, 'creep': 565, 'fuell': 964, 'msavaarmstrong': 1476, 'alway': 129, 'harass': 1064, 'cheaper': 418, 'slowli': 2028, 'enough': 789, 'collaps': 486, 'starvat': 2077, 'energystorag': 784, 'hydrogen': 1127, 'peac': 1622, 'wordsbyfrank': 2475, 'deliv': 632, 'storedabaileylock': 2095, 'wbur': 2413, 'bbcpropaganda': 236, 'mayb': 1397, 'influenza': 1186, 'spanishflu': 2057, 'desir': 652, 'seem': 1958, 'dose': 708, 'ration': 1799, 'finland': 906, 'halv': 1057, '1990citycap': 11, 'foot': 931, 'print': 1739, 'song': 2046, 'globalcool': 999, 'smol': 2031, 'team': 2158, 'becam': 241, 'preoccup': 1724, 'queensu': 1782, 'ottawaegghead': 1583, 'owenpaterson': 1592, 'telegraph': 2162, 'alsoclimatechang': 126, 'london': 1341, 'ladybird': 1284, 'charl': 415, 'delv': 635, 'illustr': 1144, 'britgeosurvey': 307, 'penguinukbook': 1626, 'viral': 2349, 'cfiguer': 381, 'tomcarnac': 2217, 'protest': 1767, 'youth': 2508, 'strike': 2100, 'seen': 1959, 'eventu': 827, 'imsuzn': 1161, 'nutrient': 1543, 'knowledgeispow': 1274, 'blame': 274, 'alert': 107, 'zambia': 2512, 'foxnew': 947, 'changep': 404, 'canwil': 345, 'thank': 2175, 'shortsighted': 1996, 'greed': 1029, 'broader': 309, 'rang': 1792, 'eg': 758, 'goe': 1012, 'kaput': 1256, 'profil': 1754, 'anthropogen': 154, 'propon': 1762, 'mad': 1361, 'extinguish': 855, 'bucket': 311, 'oilclim': 1567, 'carbonfootprint': 352, 'dog': 697, 'car': 348, 'warglob': 2371, 'ad': 60, 'warming1725clim': 2374, 'methanemethan': 1417, 'nasti': 1490, 'stuff': 2107, 'permafrost': 1636, 'quicker': 1784, 'releasedy': 1845, 'picture1325climatechang': 1654, 'cgtnoffici': 382, 'released1325climatechang': 1844, 'tamilnadu': 2150, 'elizabeth': 763, 'warren': 2404, 'shame': 1980, 'horribl': 1103, 'stephan': 2086, 'usa': 2319, 'urchin': 2314, 'decim': 618, 'whammi': 2435, 'east': 736, 'mediterranean': 1409, 'oceanwarm': 1558, 'recordbreak': 1820, 'prompt': 1758, 'fastest': 880, 'freebook': 953, 'linkedin': 1328, 'storytel': 2097, 'fiction': 894, 'character': 413, 'describ': 648, 'secondari': 1948, 'freedownload': 955, 'writingcommun': 2489, 'ebook': 738, 'ajherald': 101, 'cnn': 476, 'nyt': 1546, 'potu': 1712, 'hardli': 1066, 'stand': 2073, 'brainwash': 293, 'aka': 102, 'headon': 1074, 'wise': 2465, 'bho': 257, 'settl': 1977, 'convect': 534, 'inhibit': 1190, 'entri': 796, 'contest': 528, 'upmewhal': 2309, 'posh': 1701, 'steem': 2081, 'npg': 1538, 'cyclon': 587, 'surg': 2125, 'pearl': 1624, 'river': 1891, 'delta': 634, 'pseudoglobalwarm': 1772, 'nowth': 1537, 'committe': 494, 'oversight': 1591, 'room': 1899, 'a1': 33, 'massincpol': 1389, 'skoczela': 2022, 'maev': 1364, 'duggan': 728, 'key': 1262, 'mapoli': 1381, 'swim': 2137, 'icecan': 1135, 'imagin': 1148, 'enthusiasm': 793, 'warmingspekboomspekboom': 2399, 'mainten': 1366, 'shrub': 2001, 'sinkcarbon': 2015, 'sequestr': 1969, 'hectar': 1080, 'yearsouth': 2501, 'carpet': 357, 'bowl': 290, 'burger': 319, 'clinton': 470, 'cruz': 576, 'gop': 1015, 'impeach': 1154, 'imposs': 1159, 'king': 1267, 'mcconnel': 1399, 'pelosi': 1625, 'super': 2119, 'environmentalist': 801, 'who': 2440, 'standard': 2074, 'valu': 2332, 'open': 1572, 'top': 2224, 'deni': 638, 'clear': 440, 'rethink': 1868, 'ignor': 1142, 'greener': 1031, 'acid': 51, 'biolog': 269, 'scicomm': 1936, 'cdnpoli': 371, 'math': 1393, 'steminist': 2084, 'pledg': 1677, 'foodwast': 930, 'forthcom': 938, 'hot': 1107, 'faccwtha': 860, 'sarahbridl': 1917, 'scope': 1942, 'taken': 2147, 'celebr': 372, 'dhmi': 665, 'airport': 98, 'launch': 1295, 'airportsdhmiavi': 99, 'dhmikurums': 666, 'donemi': 704, 'upmewhaleselfpowerclimatechangeglobalwarminggogreen': 2310, 'ilovesteem': 1145, 'knowtechexplorist': 1276, 'detect': 659, 'fingerprint': 905, 'daili': 588, 'observ': 1553, 'amend': 131, 'establish': 818, 'paradigm': 1604, 'ecotone2': 748, 'ccyal': 369, 'sat': 1918, 'gretchenmarg': 1040, 'percept': 1631, 'leiserowitz': 1309, 'emphas': 775, 'six': 2018, 'fed': 885, 'powel': 1715, 'chair': 384, 'jerom': 1236, 'play': 1673, 'destabil': 654, 'market': 1385, 'changei': 401, 'place': 1657, 'guess': 1048, 'arsonist': 182, 'light': 1322, 'firesglobalwarm': 909, 'carbong': 353, 'climatedepot': 455, 'climateaudit': 445, 'rossmckitrick': 1901, '4c': 28, 'winegrow': 2461, 'mention': 1414, 'whole': 2442, 'wine': 2460, 'franc': 950, 'germani': 990, 'itali': 1225, 'spain': 2056, 'council': 552, 'solac': 2040, 'spokesperson': 2068, 'lgcplu': 1317, 'invit': 1213, 'creator': 564, 'reward': 1875, 'regretbeyond': 1839, 'behind': 246, 'steemit': 2082, 'oc': 1555, 'selfpow': 1963, 'eat': 737, 'meat': 1406, 'bad': 224, 'davo': 600, 'huffpost': 1116, 'briandecesar': 301, 'ibrahimpol': 1132, 'changey': 410, 'vast': 2336, 'changeclimateact': 396, 'non': 1526, 'violenc': 2348, 'tim': 2202, 'firstclim': 912, 'bottom': 289, 'line': 1326, 'imf': 1149, 'rba': 1800, 'smh': 2030, 'hrh': 1114, 'charleshrh': 416, 'davosboth': 602, 'greatest': 1027, 'chrismend': 428, 'lizwathuti': 1335, 'unepafrica': 2288, 'whitehous': 2439, 'cah': 333, 'blend': 278, 'black': 273, 'imo': 1151, 'serious': 1972, 'particular': 1612, 'spat': 2058, 'mnuchin': 1448, 'tension': 2169, 'wef': 2428, 'issuegretathunberg': 1224, 'worldeconomicforum': 2479, 'she': 1986, 'daughter': 596, 'factor': 863, 'expos': 853, 'buildingslet': 314, 'resist': 1862, 'materi': 1392, 'klimaatveranda': 1269, 'climatehysteria': 458, 'debunked1': 612, 'wouldnt': 2486, 'matter2': 1395, 'uncertain': 2278, 'bad4': 225, 'economyruin': 746, 'invent': 1210, 'loss': 1349, 'creation': 563, 'britain': 306, 'wef2020': 2429, 'stream': 2098, 'snap': 2032, 'sound': 2050, 'dire': 678, 'bopinion': 286, 'tallinn': 2149, '20c': 17, 'warmingestonia': 2383, 'cokepi': 483, 'cybercar': 584, 'obsess': 1554, 'contextcloud': 529, 'add': 64, '8c': 32, 'warmingthi': 2400, 'previous': 1734, 'examin': 835, 'complic': 501, 'usaeven': 2320, 'toll': 2216, 'difficult': 674, 'cbsnew': 367, 'alon': 120, 'wave': 2409, 'user': 2324, 'carpool': 358, 'bit': 272, 'davos2020': 601, 'rich': 1877, 'alien': 113, 'richer': 1879, 'warmingdescend': 2381, 'davi': 597, 'guzzl': 1051, 'plane': 1660, 'spin': 2066, 'abyss': 43, 'hidden': 1086, 'algorithm': 111, 'denial': 639, 'video': 2343, 'search': 1946, 'incorrect': 1167, 'algosov': 112, 'sad': 1909, 'want': 2369, 'measuresto': 1405, 'tutori': 2266, 'agw': 93, 'premedit': 1723, 'corrupt': 547, 'lttimothyballshawcagt': 1356, 'trap': 2237, 'blanket': 275, 'dailymail': 589, 'climatechangeampglobalwarm': 448, 'minut': 1439, 'concept': 506, 'anthoni': 153, 'climtaechang': 469, 'foundat': 944, 'explan': 850, 'articul': 185, 'public': 1773, 'task': 2153, 'haveweallgonem1': 1071, 'damn': 591, 'mm': 1446, 'lunaci': 1358, 'mancaus': 1372, 'warmingbiggest': 2379, 'aoc': 162, 'teach': 2157, 'individu': 1179, 'wed': 2423, 'collect': 487, 'econigeria': 743, 'cdm': 370, 'ati': 196, 'conduct': 509, 'train': 2232, 'devi': 663, 'prasad': 1720, 'lectur': 1303, 'warmingadministrativetraininginstitut': 2377, 'kapilmohania': 1255, 'officerstrain': 1561, 'drr': 722, 'misinform': 1440, 'bbcworld': 237, 'man': 1370, 'proof': 1759, 'alan': 103, 'fensin': 890, 'hotter': 1108, 'highest': 1089, 'wc': 2414, 'volcan': 2356, 'erupt': 815, 'futurean': 972, 'livelihood': 1334, 'nationsiirr': 1493, 'sdg13': 1943, 'taalph': 2141, 'auburnu': 205, 'natureclim': 1497, 'fourfold': 946, 'potent': 1710, 'nitrou': 1520, 'oxidea': 1593, 'daniela': 593, 'jacob': 1231, 'geric': 989, 'tarusakhi': 2152, 'kalptaru108': 1254, 'kumaridiya': 1281, 'prakashjavdekar': 1719, 'dgpib': 664, 'gssjodhpur': 1045, 'padmaaward': 1598, 'moefcc': 1452, 'diyapdkf': 695, 'madhusharmabjp': 1363, 'betibacha': 253, 'unyouthenvoy': 2306, 'educategirl': 754, 'swatipiram': 2134, 'anandmahindra': 143, 'kiransnm': 1268, 'mayursuthar': 1398, 'almasjiwani': 118, 'nice': 1516, 'nobl': 1524, 'ini': 1191, 'envinorment': 797, 'wildlif': 2455, 'oxygen': 1594, 'commend': 493, 'involv': 1214, 'greenini': 1034, 'livabl': 1332, 'stark': 2075, 'verityfirth': 2340, 'incred': 1170, 'far': 875, 'alexand': 108, 'von': 2359, 'humboldt': 1122, 'centuryh': 379, 'social': 2035, 'monocultur': 1459, 'focu': 924, 'financ': 901, 'attractamooney': 203, 'ft': 961, 'ch4': 383, 'cheap': 417, 'sheep': 1988, 'etc': 820, 'fear': 884, 'monash': 1455, 'david': 598, 'packham': 1597, 'gradual': 1023, 'process': 1747, 'bushfir': 324, 'davidpackham': 599, 'translat': 2236, 'importantglobalwarminghealth': 1157, 'climatechangerealis': 451, 'igbconlin': 1141, 'edciitd': 749, 'mgcshvaccompani': 1421, 'stopglobalwarm': 2093, 'globalwarmingawar': 1003, 'pollutioncontrol': 1693, 'popul': 1699, 'explos': 852, 'seri': 1970, 'imag': 1147, 'change40x': 389, 'cm': 475, 'edit': 750, 'hahnemhl': 1054, 'artist': 186, 'paperclimatechang': 1603, 'environmentart': 802, 'lastchanc': 1291, 'natobserv': 1494, 'terribl': 2171, 'lose': 1348, 'austrilia': 212, 'eucalyptu': 823, 'piec': 1655, 'underscor': 2284, 'australiafir': 209, 'factora': 864, 'doubt': 710, 'gpwx': 1022, 'inconsist': 1164, '1970': 9, 'faultclim': 881, 'savetheplanetgretathunberg': 1923, 'klimaschutz': 1270, 'selfhat': 1962, 'alongsid': 122, 'einstein': 761, 'robert': 1894, 'oppenheim': 1574, 'richard': 1878, 'feynman': 893, 'niel': 1517, 'bohr': 281, 'enrico': 790, 'fermi': 891, 'uninhabit': 2295, 'iron': 1219, 'northwestern': 1532, 'europ': 824, 'colder': 485}\n"
     ]
    }
   ],
   "source": [
    "#Vectorizing the text data using TFIDvectorizer\n",
    "tfid = TfidfVectorizer()\n",
    "vectorizedtext = tfid.fit_transform(stemmedtext)\n",
    "\n",
    "print(vectorizedtext)\n",
    "print(tfid.vocabulary_)"
   ]
  },
  {
   "cell_type": "markdown",
   "id": "3ebbe101",
   "metadata": {},
   "source": [
    "## PART 2 Data Cleaning"
   ]
  },
  {
   "cell_type": "code",
   "execution_count": null,
   "id": "5d58ece2",
   "metadata": {},
   "outputs": [],
   "source": []
  },
  {
   "cell_type": "markdown",
   "id": "028ab047",
   "metadata": {},
   "source": [
    "## 3. Exploratory Data Analysis"
   ]
  },
  {
   "cell_type": "markdown",
   "id": "1b33b604",
   "metadata": {},
   "source": [
    "### Distribution of Sentiments"
   ]
  },
  {
   "cell_type": "code",
   "execution_count": 90,
   "id": "75c864d5",
   "metadata": {},
   "outputs": [
    {
     "data": {
      "image/png": "[encoded data removed]",
      "text/plain": [
       "<Figure size 360x360 with 1 Axes>"
      ]
     },
     "metadata": {},
     "output_type": "display_data"
    }
   ],
   "source": [
    "plt.figure(figsize = (5, 5))\n",
    "values = df['sympathy'].value_counts().values\n",
    "labels = ['news', 'neutral', 'pro', 'anti']\n",
    "plt.pie(values, labels=labels, textprops={'fontsize': 15})\n",
    "plt.title('Sentiment Distribution of the 2020 Twitter Dataset', fontsize=20)\n",
    "plt.show()"
   ]
  },
  {
   "cell_type": "markdown",
   "id": "e523e785",
   "metadata": {},
   "source": [
    "## PART 4 Data Modelling"
   ]
  },
  {
   "cell_type": "code",
   "execution_count": null,
   "id": "90418836",
   "metadata": {},
   "outputs": [],
   "source": []
  },
  {
   "cell_type": "markdown",
   "id": "a2101ba5",
   "metadata": {},
   "source": [
    "## PART 5 Data Testing"
   ]
  },
  {
   "cell_type": "code",
   "execution_count": null,
   "id": "70e54b27",
   "metadata": {},
   "outputs": [],
   "source": []
  }
 ],
 "metadata": {
  "kernelspec": {
   "display_name": "Python 3 (ipykernel)",
   "language": "python",
   "name": "python3"
  },
  "language_info": {
   "codemirror_mode": {
    "name": "ipython",
    "version": 3
   },
   "file_extension": ".py",
   "mimetype": "text/x-python",
   "name": "python",
   "nbconvert_exporter": "python",
   "pygments_lexer": "ipython3",
   "version": "3.9.7"
  }
 },
 "nbformat": 4,
 "nbformat_minor": 5
}
