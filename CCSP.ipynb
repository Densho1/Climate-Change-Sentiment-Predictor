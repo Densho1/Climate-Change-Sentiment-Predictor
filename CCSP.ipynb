{
 "cells": [
  {
   "cell_type": "markdown",
   "id": "e41af391",
   "metadata": {},
   "source": [
    "# Climate Change Sentiment Predictor\n",
    "\n",
    "This project aims to develop a program that, given a tweet relating to climate change, can predict whether the user's sentiment is sympathetic regarding climate change or not. Using data from a dataset of tweets with a manually labeled sentiment to train from, we aim to help future analysis regarding climate change through this program that looks into human sentiments through tweets. By providing a program that automatically labels sentiments, this project can easily provide future research with numerous and timely data to use.\n",
    "\n",
    "This project is developed by:\n",
    "\n",
    "- Alvarado, Enrique Luis\n",
    "- Bassig, Lance Raphael\n",
    "- Roxas, Dennis Christian\n",
    "- Surara, Ron Christian"
   ]
  },
  {
   "cell_type": "markdown",
   "id": "cf41532e",
   "metadata": {},
   "source": [
    "## 1. Importing the dataset and libraries"
   ]
  },
  {
   "cell_type": "code",
   "execution_count": 359,
   "id": "5276f0a2",
   "metadata": {
    "scrolled": false
   },
   "outputs": [
    {
     "data": {
      "text/html": [
       "<div>\n",
       "<style scoped>\n",
       "    .dataframe tbody tr th:only-of-type {\n",
       "        vertical-align: middle;\n",
       "    }\n",
       "\n",
       "    .dataframe tbody tr th {\n",
       "        vertical-align: top;\n",
       "    }\n",
       "\n",
       "    .dataframe thead th {\n",
       "        text-align: right;\n",
       "    }\n",
       "</style>\n",
       "<table border=\"1\" class=\"dataframe\">\n",
       "  <thead>\n",
       "    <tr style=\"text-align: right;\">\n",
       "      <th></th>\n",
       "      <th>id</th>\n",
       "      <th>date</th>\n",
       "      <th>retweets</th>\n",
       "      <th>source</th>\n",
       "      <th>author</th>\n",
       "      <th>likes</th>\n",
       "      <th>text</th>\n",
       "      <th>twitter_name</th>\n",
       "      <th>location</th>\n",
       "      <th>verified</th>\n",
       "      <th>followers</th>\n",
       "      <th>friends</th>\n",
       "      <th>polarity</th>\n",
       "      <th>subjectivity</th>\n",
       "      <th>1st review</th>\n",
       "      <th>2nd review</th>\n",
       "      <th>3rd review</th>\n",
       "      <th>sympathy?</th>\n",
       "      <th>Hidden * change to 'hide' to hide verdict, helpful to avoid biases while reviewing</th>\n",
       "    </tr>\n",
       "  </thead>\n",
       "  <tbody>\n",
       "    <tr>\n",
       "      <th>0</th>\n",
       "      <td>2.184935e+09</td>\n",
       "      <td>12-22-2020 23:22</td>\n",
       "      <td>71.0</td>\n",
       "      <td>Twitter Web App</td>\n",
       "      <td>GO GREEN</td>\n",
       "      <td>91.0</td>\n",
       "      <td>The death of summer Arctic ice our Earth coole...</td>\n",
       "      <td>ECOWARRIORSS</td>\n",
       "      <td>NaN</td>\n",
       "      <td>False</td>\n",
       "      <td>23415.0</td>\n",
       "      <td>20439.0</td>\n",
       "      <td>-0.054365</td>\n",
       "      <td>0.426984</td>\n",
       "      <td>news</td>\n",
       "      <td>pro</td>\n",
       "      <td>pro</td>\n",
       "      <td>positive</td>\n",
       "      <td>NaN</td>\n",
       "    </tr>\n",
       "    <tr>\n",
       "      <th>1</th>\n",
       "      <td>5.086586e+08</td>\n",
       "      <td>12-10-2020 14:30</td>\n",
       "      <td>14.0</td>\n",
       "      <td>Twitter for Advertisers</td>\n",
       "      <td>Elsevier Energy</td>\n",
       "      <td>98.0</td>\n",
       "      <td>Elsevier and the EditorsinChief are pleased to...</td>\n",
       "      <td>ElsevierEnergy</td>\n",
       "      <td>Oxford, England</td>\n",
       "      <td>False</td>\n",
       "      <td>6615.0</td>\n",
       "      <td>508.0</td>\n",
       "      <td>0.387500</td>\n",
       "      <td>0.633333</td>\n",
       "      <td>news</td>\n",
       "      <td>news</td>\n",
       "      <td>news</td>\n",
       "      <td>positive</td>\n",
       "      <td>*remove the cell above when 3rd reviewer time</td>\n",
       "    </tr>\n",
       "    <tr>\n",
       "      <th>2</th>\n",
       "      <td>2.607105e+09</td>\n",
       "      <td>12-22-2020 21:28</td>\n",
       "      <td>0.0</td>\n",
       "      <td>Twitter Web App</td>\n",
       "      <td>Arwyn Thomas</td>\n",
       "      <td>1.0</td>\n",
       "      <td>From better climate change education to improv...</td>\n",
       "      <td>siwarr5</td>\n",
       "      <td>Carmarthen</td>\n",
       "      <td>False</td>\n",
       "      <td>22.0</td>\n",
       "      <td>133.0</td>\n",
       "      <td>0.261905</td>\n",
       "      <td>0.345238</td>\n",
       "      <td>news</td>\n",
       "      <td>neutral</td>\n",
       "      <td>neutral</td>\n",
       "      <td>neutral</td>\n",
       "      <td>NaN</td>\n",
       "    </tr>\n",
       "    <tr>\n",
       "      <th>3</th>\n",
       "      <td>1.960966e+07</td>\n",
       "      <td>12-22-2020 21:24</td>\n",
       "      <td>0.0</td>\n",
       "      <td>Twitter Web App</td>\n",
       "      <td>Tom Gillispie, EDITOR/WRITER</td>\n",
       "      <td>0.0</td>\n",
       "      <td>climate change Links to FIXING CLIMATE CHANGE ...</td>\n",
       "      <td>EDITORatWORK</td>\n",
       "      <td>Rural Hall, North Carolina, USA</td>\n",
       "      <td>False</td>\n",
       "      <td>4191.0</td>\n",
       "      <td>3708.0</td>\n",
       "      <td>0.000000</td>\n",
       "      <td>0.000000</td>\n",
       "      <td>news</td>\n",
       "      <td>neutral</td>\n",
       "      <td>news</td>\n",
       "      <td>positive</td>\n",
       "      <td>NaN</td>\n",
       "    </tr>\n",
       "    <tr>\n",
       "      <th>4</th>\n",
       "      <td>1.960966e+07</td>\n",
       "      <td>12-21-2020 22:52</td>\n",
       "      <td>1.0</td>\n",
       "      <td>Twitter Web App</td>\n",
       "      <td>Tom Gillispie, EDITOR/WRITER</td>\n",
       "      <td>1.0</td>\n",
       "      <td>climate change The 11TH HOUR FOR THE EARTH cli...</td>\n",
       "      <td>EDITORatWORK</td>\n",
       "      <td>Rural Hall, North Carolina, USA</td>\n",
       "      <td>False</td>\n",
       "      <td>4191.0</td>\n",
       "      <td>3708.0</td>\n",
       "      <td>0.000000</td>\n",
       "      <td>0.000000</td>\n",
       "      <td>anti</td>\n",
       "      <td>pro</td>\n",
       "      <td>pro</td>\n",
       "      <td>positive</td>\n",
       "      <td>NaN</td>\n",
       "    </tr>\n",
       "  </tbody>\n",
       "</table>\n",
       "</div>"
      ],
      "text/plain": [
       "             id              date  retweets                   source  \\\n",
       "0  2.184935e+09  12-22-2020 23:22      71.0          Twitter Web App   \n",
       "1  5.086586e+08  12-10-2020 14:30      14.0  Twitter for Advertisers   \n",
       "2  2.607105e+09  12-22-2020 21:28       0.0          Twitter Web App   \n",
       "3  1.960966e+07  12-22-2020 21:24       0.0          Twitter Web App   \n",
       "4  1.960966e+07  12-21-2020 22:52       1.0          Twitter Web App   \n",
       "\n",
       "                         author  likes  \\\n",
       "0                      GO GREEN   91.0   \n",
       "1               Elsevier Energy   98.0   \n",
       "2                  Arwyn Thomas    1.0   \n",
       "3  Tom Gillispie, EDITOR/WRITER    0.0   \n",
       "4  Tom Gillispie, EDITOR/WRITER    1.0   \n",
       "\n",
       "                                                text    twitter_name  \\\n",
       "0  The death of summer Arctic ice our Earth coole...    ECOWARRIORSS   \n",
       "1  Elsevier and the EditorsinChief are pleased to...  ElsevierEnergy   \n",
       "2  From better climate change education to improv...         siwarr5   \n",
       "3  climate change Links to FIXING CLIMATE CHANGE ...    EDITORatWORK   \n",
       "4  climate change The 11TH HOUR FOR THE EARTH cli...    EDITORatWORK   \n",
       "\n",
       "                          location verified  followers  friends  polarity  \\\n",
       "0                              NaN    False    23415.0  20439.0 -0.054365   \n",
       "1                  Oxford, England    False     6615.0    508.0  0.387500   \n",
       "2                       Carmarthen    False       22.0    133.0  0.261905   \n",
       "3  Rural Hall, North Carolina, USA    False     4191.0   3708.0  0.000000   \n",
       "4  Rural Hall, North Carolina, USA    False     4191.0   3708.0  0.000000   \n",
       "\n",
       "   subjectivity 1st review 2nd review 3rd review sympathy?  \\\n",
       "0      0.426984       news        pro        pro  positive   \n",
       "1      0.633333       news       news       news  positive   \n",
       "2      0.345238       news    neutral    neutral   neutral   \n",
       "3      0.000000       news    neutral       news  positive   \n",
       "4      0.000000       anti        pro        pro  positive   \n",
       "\n",
       "  Hidden * change to 'hide' to hide verdict, helpful to avoid biases while reviewing  \n",
       "0                                                NaN                                  \n",
       "1      *remove the cell above when 3rd reviewer time                                  \n",
       "2                                                NaN                                  \n",
       "3                                                NaN                                  \n",
       "4                                                NaN                                  "
      ]
     },
     "execution_count": 359,
     "metadata": {},
     "output_type": "execute_result"
    }
   ],
   "source": [
    "import numpy as np\n",
    "import pandas as pd\n",
    "import matplotlib.pyplot as plt\n",
    "import seaborn as sns\n",
    "import math\n",
    "\n",
    "import nltk.downloader\n",
    "from nltk.tokenize import RegexpTokenizer\n",
    "from nltk.corpus import stopwords\n",
    "from nltk.stem import PorterStemmer\n",
    "\n",
    "from sklearn.preprocessing import LabelEncoder\n",
    "from sklearn.feature_extraction.text import TfidfVectorizer\n",
    "from sklearn.feature_extraction.text import CountVectorizer\n",
    "\n",
    "df = pd.read_csv('Climate_Sentiments_Twitter.csv')\n",
    "df.head()"
   ]
  },
  {
   "cell_type": "code",
   "execution_count": 360,
   "id": "fc499230",
   "metadata": {},
   "outputs": [
    {
     "name": "stderr",
     "output_type": "stream",
     "text": [
      "[nltk_data] Downloading package stopwords to\n",
      "[nltk_data]     C:\\Users\\miuser\\AppData\\Roaming\\nltk_data...\n",
      "[nltk_data]   Package stopwords is already up-to-date!\n"
     ]
    },
    {
     "data": {
      "text/plain": [
       "True"
      ]
     },
     "execution_count": 360,
     "metadata": {},
     "output_type": "execute_result"
    }
   ],
   "source": [
    "nltk.download('stopwords')"
   ]
  },
  {
   "cell_type": "markdown",
   "id": "ed4bd1ff",
   "metadata": {},
   "source": [
    "## 2. Data Preprocessing"
   ]
  },
  {
   "cell_type": "markdown",
   "id": "f9ecdd4b",
   "metadata": {},
   "source": [
    "Since working with a column that has a '?' is troublesome, we will be transforming the 'sympathy?' column to simply 'sympathy'"
   ]
  },
  {
   "cell_type": "code",
   "execution_count": 361,
   "id": "4f665ad3",
   "metadata": {},
   "outputs": [],
   "source": [
    "#Transforming the sympathy? column to sympathy\n",
    "df.rename(columns={\"sympathy?\":\"sympathy\"}, inplace=True)"
   ]
  },
  {
   "cell_type": "markdown",
   "id": "4588c0ad",
   "metadata": {},
   "source": [
    "### 2.1 Data Cleaning"
   ]
  },
  {
   "cell_type": "code",
   "execution_count": 362,
   "id": "406b7f84",
   "metadata": {
    "scrolled": true
   },
   "outputs": [
    {
     "data": {
      "text/html": [
       "<div>\n",
       "<style scoped>\n",
       "    .dataframe tbody tr th:only-of-type {\n",
       "        vertical-align: middle;\n",
       "    }\n",
       "\n",
       "    .dataframe tbody tr th {\n",
       "        vertical-align: top;\n",
       "    }\n",
       "\n",
       "    .dataframe thead th {\n",
       "        text-align: right;\n",
       "    }\n",
       "</style>\n",
       "<table border=\"1\" class=\"dataframe\">\n",
       "  <thead>\n",
       "    <tr style=\"text-align: right;\">\n",
       "      <th></th>\n",
       "      <th>text</th>\n",
       "      <th>sympathy</th>\n",
       "    </tr>\n",
       "  </thead>\n",
       "  <tbody>\n",
       "    <tr>\n",
       "      <th>0</th>\n",
       "      <td>Check out this fascinating thread on new resea...</td>\n",
       "      <td>positive</td>\n",
       "    </tr>\n",
       "    <tr>\n",
       "      <th>1</th>\n",
       "      <td>Global warming increases the frequency and int...</td>\n",
       "      <td>neutral</td>\n",
       "    </tr>\n",
       "    <tr>\n",
       "      <th>2</th>\n",
       "      <td>Climate change is poised to thaw and undermine...</td>\n",
       "      <td>positive</td>\n",
       "    </tr>\n",
       "    <tr>\n",
       "      <th>3</th>\n",
       "      <td>A new study led by AuburnU researchers and pub...</td>\n",
       "      <td>neutral</td>\n",
       "    </tr>\n",
       "    <tr>\n",
       "      <th>4</th>\n",
       "      <td>realDonaldTrump BrianKempGA Milankovitch Cycle...</td>\n",
       "      <td>negative</td>\n",
       "    </tr>\n",
       "  </tbody>\n",
       "</table>\n",
       "</div>"
      ],
      "text/plain": [
       "                                                text  sympathy\n",
       "0  Check out this fascinating thread on new resea...  positive\n",
       "1  Global warming increases the frequency and int...   neutral\n",
       "2  Climate change is poised to thaw and undermine...  positive\n",
       "3  A new study led by AuburnU researchers and pub...   neutral\n",
       "4  realDonaldTrump BrianKempGA Milankovitch Cycle...  negative"
      ]
     },
     "execution_count": 362,
     "metadata": {},
     "output_type": "execute_result"
    }
   ],
   "source": [
    "#Dropping unneeded columns\n",
    "df = df[['text', 'sympathy']]\n",
    "df = df.sample(frac=1).reset_index(drop=True)\n",
    "df.head()"
   ]
  },
  {
   "cell_type": "code",
   "execution_count": 363,
   "id": "8cdc7feb",
   "metadata": {},
   "outputs": [
    {
     "data": {
      "text/plain": [
       "text   sympathy\n",
       "False  False       461\n",
       "dtype: int64"
      ]
     },
     "execution_count": 363,
     "metadata": {},
     "output_type": "execute_result"
    }
   ],
   "source": [
    "#Check if there are rows with missing values\n",
    "df.isna().value_counts()"
   ]
  },
  {
   "cell_type": "markdown",
   "id": "b1f14387",
   "metadata": {},
   "source": [
    "### 2.2 Data Encoding"
   ]
  },
  {
   "cell_type": "code",
   "execution_count": 364,
   "id": "b01dd43a",
   "metadata": {
    "scrolled": true
   },
   "outputs": [
    {
     "data": {
      "text/html": [
       "<div>\n",
       "<style scoped>\n",
       "    .dataframe tbody tr th:only-of-type {\n",
       "        vertical-align: middle;\n",
       "    }\n",
       "\n",
       "    .dataframe tbody tr th {\n",
       "        vertical-align: top;\n",
       "    }\n",
       "\n",
       "    .dataframe thead th {\n",
       "        text-align: right;\n",
       "    }\n",
       "</style>\n",
       "<table border=\"1\" class=\"dataframe\">\n",
       "  <thead>\n",
       "    <tr style=\"text-align: right;\">\n",
       "      <th></th>\n",
       "      <th>text</th>\n",
       "      <th>sympathy</th>\n",
       "    </tr>\n",
       "  </thead>\n",
       "  <tbody>\n",
       "    <tr>\n",
       "      <th>0</th>\n",
       "      <td>Check out this fascinating thread on new resea...</td>\n",
       "      <td>1</td>\n",
       "    </tr>\n",
       "    <tr>\n",
       "      <th>1</th>\n",
       "      <td>Global warming increases the frequency and int...</td>\n",
       "      <td>0</td>\n",
       "    </tr>\n",
       "    <tr>\n",
       "      <th>2</th>\n",
       "      <td>Climate change is poised to thaw and undermine...</td>\n",
       "      <td>1</td>\n",
       "    </tr>\n",
       "    <tr>\n",
       "      <th>3</th>\n",
       "      <td>A new study led by AuburnU researchers and pub...</td>\n",
       "      <td>0</td>\n",
       "    </tr>\n",
       "    <tr>\n",
       "      <th>4</th>\n",
       "      <td>realDonaldTrump BrianKempGA Milankovitch Cycle...</td>\n",
       "      <td>-1</td>\n",
       "    </tr>\n",
       "  </tbody>\n",
       "</table>\n",
       "</div>"
      ],
      "text/plain": [
       "                                                text  sympathy\n",
       "0  Check out this fascinating thread on new resea...         1\n",
       "1  Global warming increases the frequency and int...         0\n",
       "2  Climate change is poised to thaw and undermine...         1\n",
       "3  A new study led by AuburnU researchers and pub...         0\n",
       "4  realDonaldTrump BrianKempGA Milankovitch Cycle...        -1"
      ]
     },
     "execution_count": 364,
     "metadata": {},
     "output_type": "execute_result"
    }
   ],
   "source": [
    "#Transforming the sympathy column to numerical values using the replacement method\n",
    "params = {\"negative\": -1, \"neutral\": 0, \"positive\": 1}\n",
    "df['sympathy'].replace(params, inplace=True)\n",
    "df.head()"
   ]
  },
  {
   "cell_type": "markdown",
   "id": "d6a39c26",
   "metadata": {},
   "source": [
    "### 2.3 Data Representation"
   ]
  },
  {
   "cell_type": "code",
   "execution_count": 365,
   "id": "0fa86e92",
   "metadata": {},
   "outputs": [
    {
     "data": {
      "text/html": [
       "<div>\n",
       "<style scoped>\n",
       "    .dataframe tbody tr th:only-of-type {\n",
       "        vertical-align: middle;\n",
       "    }\n",
       "\n",
       "    .dataframe tbody tr th {\n",
       "        vertical-align: top;\n",
       "    }\n",
       "\n",
       "    .dataframe thead th {\n",
       "        text-align: right;\n",
       "    }\n",
       "</style>\n",
       "<table border=\"1\" class=\"dataframe\">\n",
       "  <thead>\n",
       "    <tr style=\"text-align: right;\">\n",
       "      <th></th>\n",
       "      <th>text</th>\n",
       "    </tr>\n",
       "  </thead>\n",
       "  <tbody>\n",
       "    <tr>\n",
       "      <th>0</th>\n",
       "      <td>Check out this fascinating thread on new resea...</td>\n",
       "    </tr>\n",
       "    <tr>\n",
       "      <th>1</th>\n",
       "      <td>Global warming increases the frequency and int...</td>\n",
       "    </tr>\n",
       "    <tr>\n",
       "      <th>2</th>\n",
       "      <td>Climate change is poised to thaw and undermine...</td>\n",
       "    </tr>\n",
       "    <tr>\n",
       "      <th>3</th>\n",
       "      <td>A new study led by AuburnU researchers and pub...</td>\n",
       "    </tr>\n",
       "    <tr>\n",
       "      <th>4</th>\n",
       "      <td>realDonaldTrump BrianKempGA Milankovitch Cycle...</td>\n",
       "    </tr>\n",
       "  </tbody>\n",
       "</table>\n",
       "</div>"
      ],
      "text/plain": [
       "                                                text\n",
       "0  Check out this fascinating thread on new resea...\n",
       "1  Global warming increases the frequency and int...\n",
       "2  Climate change is poised to thaw and undermine...\n",
       "3  A new study led by AuburnU researchers and pub...\n",
       "4  realDonaldTrump BrianKempGA Milankovitch Cycle..."
      ]
     },
     "execution_count": 365,
     "metadata": {},
     "output_type": "execute_result"
    }
   ],
   "source": [
    "#Creating the feature(s) and target vectors\n",
    "features = df.drop(\"sympathy\", axis=1)\n",
    "target = df[\"sympathy\"]\n",
    "\n",
    "features.head()"
   ]
  },
  {
   "cell_type": "markdown",
   "id": "663c0926",
   "metadata": {},
   "source": [
    "### 2.4 Text Data Tokenization"
   ]
  },
  {
   "cell_type": "code",
   "execution_count": 366,
   "id": "9a52a5e9",
   "metadata": {
    "scrolled": true
   },
   "outputs": [],
   "source": [
    "#Tokenize the text data using RegexpTokenizer\n",
    "textdata = features['text']\n",
    "n = len(textdata)\n",
    "tokenizer = RegexpTokenizer(r'\\w+')\n",
    "tokenizedtext = []\n",
    "\n",
    "for i in range(n):\n",
    "    #Convert text data to lowercase\n",
    "    lower = textdata.iloc[i].lower()\n",
    "    \n",
    "    #Tokenize\n",
    "    wordsarray = tokenizer.tokenize(lower)\n",
    "    tokenizedtext.append(wordsarray)\n",
    "\n",
    "#print(tokenizedText)"
   ]
  },
  {
   "cell_type": "markdown",
   "id": "7b41bad8",
   "metadata": {},
   "source": [
    "### 2.5 Text Data Cleaning"
   ]
  },
  {
   "cell_type": "code",
   "execution_count": 367,
   "id": "b4221c04",
   "metadata": {
    "scrolled": true
   },
   "outputs": [],
   "source": [
    "#Removing stop words using nlkt\n",
    "englishstopwords = set(stopwords.words('english'))\n",
    "shortertext = []\n",
    "\n",
    "for tweet in tokenizedtext:\n",
    "    shortertweet = []\n",
    "    for word in tweet:\n",
    "        if word not in englishstopwords:\n",
    "            word = word.strip()\n",
    "            if (word.isdigit() == False and len(word) >= 2):\n",
    "                shortertweet.append(word)\n",
    "    shortertext.append(shortertweet)\n",
    "\n",
    "#print(shorterText)"
   ]
  },
  {
   "cell_type": "code",
   "execution_count": 368,
   "id": "85acc20c",
   "metadata": {},
   "outputs": [
    {
     "data": {
      "text/html": [
       "<div>\n",
       "<style scoped>\n",
       "    .dataframe tbody tr th:only-of-type {\n",
       "        vertical-align: middle;\n",
       "    }\n",
       "\n",
       "    .dataframe tbody tr th {\n",
       "        vertical-align: top;\n",
       "    }\n",
       "\n",
       "    .dataframe thead th {\n",
       "        text-align: right;\n",
       "    }\n",
       "</style>\n",
       "<table border=\"1\" class=\"dataframe\">\n",
       "  <thead>\n",
       "    <tr style=\"text-align: right;\">\n",
       "      <th></th>\n",
       "      <th>text</th>\n",
       "      <th>sympathy</th>\n",
       "    </tr>\n",
       "  </thead>\n",
       "  <tbody>\n",
       "    <tr>\n",
       "      <th>0</th>\n",
       "      <td>check fascin thread new research uw uwenviron ...</td>\n",
       "      <td>1</td>\n",
       "    </tr>\n",
       "    <tr>\n",
       "      <th>1</th>\n",
       "      <td>global warm increas frequenc intens forest fir...</td>\n",
       "      <td>0</td>\n",
       "    </tr>\n",
       "    <tr>\n",
       "      <th>2</th>\n",
       "      <td>climat chang pois thaw undermin soil beneath c...</td>\n",
       "      <td>1</td>\n",
       "    </tr>\n",
       "    <tr>\n",
       "      <th>3</th>\n",
       "      <td>new studi led auburnu research publish naturec...</td>\n",
       "      <td>0</td>\n",
       "    </tr>\n",
       "    <tr>\n",
       "      <th>4</th>\n",
       "      <td>realdonaldtrump briankempga milankovitch cycl ...</td>\n",
       "      <td>-1</td>\n",
       "    </tr>\n",
       "  </tbody>\n",
       "</table>\n",
       "</div>"
      ],
      "text/plain": [
       "                                                text  sympathy\n",
       "0  check fascin thread new research uw uwenviron ...         1\n",
       "1  global warm increas frequenc intens forest fir...         0\n",
       "2  climat chang pois thaw undermin soil beneath c...         1\n",
       "3  new studi led auburnu research publish naturec...         0\n",
       "4  realdonaldtrump briankempga milankovitch cycl ...        -1"
      ]
     },
     "execution_count": 368,
     "metadata": {},
     "output_type": "execute_result"
    }
   ],
   "source": [
    "#Stemming using PorterStemmer\n",
    "porterstemmer = PorterStemmer()\n",
    "stemmedtext = []\n",
    "for tweet in shortertext:\n",
    "    stemmedwords = []\n",
    "    for word in tweet:\n",
    "        stemmedwords.append(porterstemmer.stem(word))\n",
    "    convertback = ' '.join(stemmedwords)\n",
    "    stemmedtext.append(convertback)\n",
    "\n",
    "#Create a separate dataframe dfcv for later EDA\n",
    "dfcv = df.copy()\n",
    "dfcv['text'] = stemmedtext\n",
    "\n",
    "dfcv.head()"
   ]
  },
  {
   "cell_type": "markdown",
   "id": "dfd7df4b",
   "metadata": {},
   "source": [
    "### 2.5 Text Data Vectorization"
   ]
  },
  {
   "cell_type": "code",
   "execution_count": 369,
   "id": "4d77a2f7",
   "metadata": {},
   "outputs": [],
   "source": [
    "#Vectorizing the text data using TFIDvectorizer for Modelling\n",
    "tfid = TfidfVectorizer()\n",
    "vectorizedtfid = tfid.fit_transform(stemmedtext)\n",
    "\n",
    "#print(vectorizedtfid)\n",
    "#print(tfid.vocabulary_)"
   ]
  },
  {
   "cell_type": "markdown",
   "id": "028ab047",
   "metadata": {},
   "source": [
    "## 3. Exploratory Data Analysis"
   ]
  },
  {
   "cell_type": "markdown",
   "id": "1b33b604",
   "metadata": {},
   "source": [
    "### 3.1 Distribution of Sentiments"
   ]
  },
  {
   "cell_type": "code",
   "execution_count": 370,
   "id": "75c864d5",
   "metadata": {},
   "outputs": [
    {
     "data": {
      "image/png": "[encoded data removed]",
      "text/plain": [
       "<Figure size 576x576 with 1 Axes>"
      ]
     },
     "metadata": {},
     "output_type": "display_data"
    }
   ],
   "source": [
    "plt.figure(figsize = (8, 8))\n",
    "values = df['sympathy'].value_counts().values\n",
    "labels = ['positive', 'neutral', 'negative']\n",
    "plt.pie(values, labels=labels, textprops={'fontsize': 15})\n",
    "plt.title('Sentiment Distribution of the 2020 Twitter Dataset', fontsize=20)\n",
    "plt.show()"
   ]
  },
  {
   "cell_type": "markdown",
   "id": "fe1bf2ca",
   "metadata": {},
   "source": [
    "### 3.2 Top 30 Occurrences of Words in Sympathetic Climate Change (positive) Tweets"
   ]
  },
  {
   "cell_type": "code",
   "execution_count": 371,
   "id": "8156691f",
   "metadata": {},
   "outputs": [
    {
     "data": {
      "text/plain": [
       "<AxesSubplot:title={'center':'Top 30 Occurrences of Words in Sympathetic Climate Change (positive) Tweets'}>"
      ]
     },
     "execution_count": 371,
     "metadata": {},
     "output_type": "execute_result"
    },
    {
     "data": {
      "image/png": "[encoded data removed]",
      "text/plain": [
       "<Figure size 1440x576 with 1 Axes>"
      ]
     },
     "metadata": {
      "needs_background": "light"
     },
     "output_type": "display_data"
    }
   ],
   "source": [
    "prodict = {}\n",
    "protweets = dfcv[(dfcv['sympathy'] == 1)]\n",
    "\n",
    "for i in range(protweets.shape[0]):\n",
    "    wordarray = protweets['text'].iloc[i].split(\" \")\n",
    "    for word in wordarray:\n",
    "        if word in prodict:\n",
    "            prodict[word] += 1\n",
    "        else:\n",
    "            prodict[word] = 1\n",
    "\n",
    "prodict = dict(sorted(prodict.items(), key=lambda item: item[1], reverse=True))\n",
    "#print(prodict)\n",
    "\n",
    "plt.figure(figsize=(20,8))\n",
    "plt.title(\"Top 30 Occurrences of Words in Sympathetic Climate Change (positive) Tweets\")\n",
    "keys = list(prodict.keys())[:30]\n",
    "vals = list(prodict.values())[:30]\n",
    "sns.barplot(x=vals, y=keys)\n",
    "\n",
    "#print(valuecounts)"
   ]
  },
  {
   "cell_type": "markdown",
   "id": "bfe0c3af",
   "metadata": {},
   "source": [
    "### 3.3 Top 30 Occurrences of Words in Aphathetic Climate Change (anti) Tweets"
   ]
  },
  {
   "cell_type": "code",
   "execution_count": 372,
   "id": "76b1cb27",
   "metadata": {},
   "outputs": [
    {
     "data": {
      "text/plain": [
       "<AxesSubplot:title={'center':'Top 30 Occurrences of Words in anti Climate Change (negative) Tweets'}>"
      ]
     },
     "execution_count": 372,
     "metadata": {},
     "output_type": "execute_result"
    },
    {
     "data": {
      "image/png": "[encoded data removed]",
      "text/plain": [
       "<Figure size 1440x576 with 1 Axes>"
      ]
     },
     "metadata": {
      "needs_background": "light"
     },
     "output_type": "display_data"
    }
   ],
   "source": [
    "antidict = {}\n",
    "antitweets = dfcv[(dfcv['sympathy'] == -1)]\n",
    "\n",
    "for i in range(antitweets.shape[0]):\n",
    "    wordarray = antitweets['text'].iloc[i].split(\" \")\n",
    "    for word in wordarray:\n",
    "        if word in antidict:\n",
    "            antidict[word] += 1\n",
    "        else:\n",
    "            antidict[word] = 1\n",
    "\n",
    "antidict = dict(sorted(antidict.items(), key=lambda item: item[1], reverse=True))\n",
    "#print(prodict)\n",
    "\n",
    "plt.figure(figsize=(20,8))\n",
    "plt.title(\"Top 30 Occurrences of Words in anti Climate Change (negative) Tweets\")\n",
    "keys = list(antidict.keys())[:30]\n",
    "vals = list(antidict.values())[:30]\n",
    "sns.barplot(x=vals, y=keys)"
   ]
  },
  {
   "cell_type": "markdown",
   "id": "5aaeba08",
   "metadata": {},
   "source": [
    "### 3.4 Top 30 Occurrences of Words in Neutral Climate Change (neutral) Tweets"
   ]
  },
  {
   "cell_type": "code",
   "execution_count": 373,
   "id": "117da035",
   "metadata": {},
   "outputs": [
    {
     "data": {
      "text/plain": [
       "<AxesSubplot:title={'center':'Top 30 Occurrences of Words in Neutral Climate Change (neutral) Tweets'}>"
      ]
     },
     "execution_count": 373,
     "metadata": {},
     "output_type": "execute_result"
    },
    {
     "data": {
      "image/png": "[encoded data removed]",
      "text/plain": [
       "<Figure size 1440x576 with 1 Axes>"
      ]
     },
     "metadata": {
      "needs_background": "light"
     },
     "output_type": "display_data"
    }
   ],
   "source": [
    "neutraldict = {}\n",
    "neutraltweets = dfcv[(dfcv['sympathy'] == 0)]\n",
    "\n",
    "for i in range(neutraltweets.shape[0]):\n",
    "    wordarray = neutraltweets['text'].iloc[i].split(\" \")\n",
    "    for word in wordarray:\n",
    "        if word in neutraldict:\n",
    "            neutraldict[word] += 1\n",
    "        else:\n",
    "            neutraldict[word] = 1\n",
    "\n",
    "neutraldict = dict(sorted(neutraldict.items(), key=lambda item: item[1], reverse=True))\n",
    "#print(prodict)\n",
    "\n",
    "plt.figure(figsize=(20,8))\n",
    "plt.title(\"Top 30 Occurrences of Words in Neutral Climate Change (neutral) Tweets\")\n",
    "keys = list(neutraldict.keys())[:30]\n",
    "vals = list(neutraldict.values())[:30]\n",
    "sns.barplot(x=vals, y=keys)"
   ]
  },
  {
   "cell_type": "markdown",
   "id": "e523e785",
   "metadata": {},
   "source": [
    "## PART 4 Data Modelling"
   ]
  },
  {
   "cell_type": "markdown",
   "id": "f8bb289e",
   "metadata": {},
   "source": [
    "### Using Logistic Regression"
   ]
  },
  {
   "cell_type": "code",
   "execution_count": 374,
   "id": "90418836",
   "metadata": {},
   "outputs": [
    {
     "name": "stdout",
     "output_type": "stream",
     "text": [
      "Solver:  newton-cg\n",
      "Accuracy Score: 0.7050359712230215\n",
      "Solver:  lbfgs\n",
      "Accuracy Score: 0.7553956834532374\n",
      "Solver:  liblinear\n",
      "Accuracy Score: 0.7122302158273381\n"
     ]
    }
   ],
   "source": [
    "#\n",
    "# Use \"vectorizedtfid\" for the features matrix\n",
    "# and \"target\" dataframe for the target vector\n",
    "#\n",
    "\n",
    "from sklearn.model_selection import train_test_split\n",
    "x_train, x_test, y_train, y_test = train_test_split(vectorizedtfid, target, test_size=0.30, random_state=0)\n",
    "\n",
    "from sklearn.linear_model import LogisticRegression\n",
    "\n",
    "for s in ['newton-cg','lbfgs','liblinear']:\n",
    "    print (\"Solver: \", s)\n",
    "    logisticRegr = LogisticRegression(C=1000000,solver=s,max_iter=1000000)\n",
    "    logisticRegr.fit(x_train,y_train)\n",
    "    score = logisticRegr.score(x_test,y_test)\n",
    "    print(\"Accuracy Score:\", score)"
   ]
  },
  {
   "cell_type": "markdown",
   "id": "9c767f18",
   "metadata": {},
   "source": [
    "### Using Support Vector Machine"
   ]
  },
  {
   "cell_type": "code",
   "execution_count": 375,
   "id": "66e5ab56",
   "metadata": {},
   "outputs": [
    {
     "name": "stdout",
     "output_type": "stream",
     "text": [
      "Linear Kernel:\n",
      "Accuracy Score: 0.7482014388489209\n",
      "\n",
      "Polynomial Kernel:\n",
      "Accuracy Score: 0.49640287769784175 Degree:  0.0 Coef:  100\n",
      "Accuracy Score: 0.7482014388489209 Degree:  1.0 Coef:  100\n",
      "Accuracy Score: 0.7410071942446043 Degree:  3.0 Coef:  100\n",
      "Accuracy Score: 0.7410071942446043 Degree:  7.0 Coef:  100\n",
      "Accuracy Score: 0.7410071942446043 Degree:  9.0 Coef:  100\n",
      "\n",
      "RBF Kernel:\n",
      "Accuracy Score: 0.49640287769784175 C:  1.0 Gamma:  0.1\n",
      "Accuracy Score: 0.5755395683453237 C:  1.0 Gamma:  1.0\n",
      "Accuracy Score: 0.5035971223021583 C:  1.0 Gamma:  100.0\n",
      "Accuracy Score: 0.5035971223021583 C:  1.0 Gamma:  10000000.0\n",
      "Accuracy Score: 0.5755395683453237 C:  1.0 Gamma:  scale\n",
      "Accuracy Score: 0.49640287769784175 C:  1.0 Gamma:  auto\n",
      "Accuracy Score: 0.7122302158273381 C:  10.0 Gamma:  0.1\n",
      "Accuracy Score: 0.6330935251798561 C:  10.0 Gamma:  1.0\n",
      "Accuracy Score: 0.5035971223021583 C:  10.0 Gamma:  100.0\n",
      "Accuracy Score: 0.5035971223021583 C:  10.0 Gamma:  10000000.0\n",
      "Accuracy Score: 0.6330935251798561 C:  10.0 Gamma:  scale\n",
      "Accuracy Score: 0.49640287769784175 C:  10.0 Gamma:  auto\n",
      "Accuracy Score: 0.7410071942446043 C:  100.0 Gamma:  0.1\n",
      "Accuracy Score: 0.6402877697841727 C:  100.0 Gamma:  1.0\n",
      "Accuracy Score: 0.5035971223021583 C:  100.0 Gamma:  100.0\n",
      "Accuracy Score: 0.5035971223021583 C:  100.0 Gamma:  10000000.0\n",
      "Accuracy Score: 0.6402877697841727 C:  100.0 Gamma:  scale\n",
      "Accuracy Score: 0.49640287769784175 C:  100.0 Gamma:  auto\n",
      "Accuracy Score: 0.7410071942446043 C:  10000000.0 Gamma:  0.1\n",
      "Accuracy Score: 0.6402877697841727 C:  10000000.0 Gamma:  1.0\n",
      "Accuracy Score: 0.5035971223021583 C:  10000000.0 Gamma:  100.0\n",
      "Accuracy Score: 0.5035971223021583 C:  10000000.0 Gamma:  10000000.0\n",
      "Accuracy Score: 0.6402877697841727 C:  10000000.0 Gamma:  scale\n",
      "Accuracy Score: 0.7482014388489209 C:  10000000.0 Gamma:  auto\n",
      "\n",
      "Sigmoid:\n",
      "Accuracy Score: 0.5323741007194245 Coef:  1\n",
      "Accuracy Score: 0.49640287769784175 Coef:  2\n",
      "Accuracy Score: 0.49640287769784175 Coef:  3\n",
      "Accuracy Score: 0.49640287769784175 Coef:  7\n",
      "Accuracy Score: 0.49640287769784175 Coef:  9\n",
      "Accuracy Score: 0.49640287769784175 Coef:  100\n"
     ]
    }
   ],
   "source": [
    "from sklearn.model_selection import train_test_split\n",
    "x_train, x_test, y_train, y_test = train_test_split(vectorizedtfid, target, test_size=0.30, random_state=0)\n",
    "\n",
    "from sklearn import svm\n",
    "\n",
    "#Linear\n",
    "print(\"Linear Kernel:\")\n",
    "SVMclassifier = svm.SVC(kernel='linear',C=1000000, max_iter=-1)\n",
    "SVMclassifier.fit(x_train,y_train)\n",
    "score = SVMclassifier.score(x_test,y_test)\n",
    "print(\"Accuracy Score:\", score)\n",
    "\n",
    "print()\n",
    "\n",
    "#Polynomial\n",
    "print(\"Polynomial Kernel:\")\n",
    "for d in [0.0,1.0,3.0,7.0,9.0]:\n",
    "    #C matches, low C low acc and high C high acc, at least for poly\n",
    "    for r in [100]:\n",
    "        SVMclassifier = svm.SVC(kernel='poly',degree=d,coef0=r, C=1000000,max_iter=-1)\n",
    "        SVMclassifier.fit(x_train,y_train)\n",
    "        score = SVMclassifier.score(x_test,y_test)\n",
    "        print(\"Accuracy Score:\", score, \"Degree: \" ,d, \"Coef: \", r)\n",
    "\n",
    "#RBF\n",
    "print()\n",
    "print(\"RBF Kernel:\")\n",
    "for c in [1.0,10.0,100.0,10000000.0]:\n",
    "    for g in [0.1,1.0,100.0,10000000.0,'scale','auto']:\n",
    "        SVMclassifier = svm.SVC(kernel='rbf',C=c,gamma=g,max_iter=-1)\n",
    "        SVMclassifier.fit(x_train,y_train)\n",
    "        score = SVMclassifier.score(x_test,y_test)\n",
    "        print(\"Accuracy Score:\", score, \"C: \", c, \"Gamma: \", g)\n",
    "    \n",
    "#Sigmoid\n",
    "print()\n",
    "print(\"Sigmoid:\")\n",
    "for c in [1,2,3,7,9,100]:\n",
    "    SVMclassifier = svm.SVC(kernel='sigmoid',coef0=c,max_iter=-1)\n",
    "    SVMclassifier.fit(x_train,y_train)\n",
    "    score = SVMclassifier.score(x_test,y_test)\n",
    "    print(\"Accuracy Score:\", score, \"Coef: \", c)"
   ]
  },
  {
   "cell_type": "markdown",
   "id": "703c0daa",
   "metadata": {},
   "source": [
    "### Naive-Bayes"
   ]
  },
  {
   "cell_type": "code",
   "execution_count": 376,
   "id": "ceb54742",
   "metadata": {},
   "outputs": [
    {
     "name": "stdout",
     "output_type": "stream",
     "text": [
      "Accuracy Score: 0.5683453237410072\n"
     ]
    }
   ],
   "source": [
    "from sklearn.model_selection import train_test_split\n",
    "x_train, x_test, y_train, y_test = train_test_split(vectorizedtfid, target, test_size=0.30, random_state=0)\n",
    "\n",
    "\n",
    "from sklearn.naive_bayes import MultinomialNB\n",
    "\n",
    "NBclassifier = MultinomialNB()\n",
    "NBclassifier.fit(x_train,y_train)\n",
    "score = NBclassifier.score(x_test,y_test)\n",
    "\n",
    "print(\"Accuracy Score:\", score)"
   ]
  },
  {
   "cell_type": "markdown",
   "id": "a2101ba5",
   "metadata": {},
   "source": [
    "## PART 5 Data Testing"
   ]
  },
  {
   "cell_type": "markdown",
   "id": "65b3c2d6",
   "metadata": {},
   "source": [
    "### Predicting Sentiments of tweets from 2021 - 2022"
   ]
  },
  {
   "cell_type": "code",
   "execution_count": 413,
   "id": "70e54b27",
   "metadata": {},
   "outputs": [],
   "source": [
    "logisticRegr = LogisticRegression(C=1000000,solver='lbfgs',max_iter=1000000)\n",
    "logisticRegr.fit(x_train,y_train)\n",
    "score = logisticRegr.score(x_test,y_test)\n",
    "testing = pd.read_csv('testing_data.csv')\n",
    "#Tokenize the text data using RegexpTokenizer\n",
    "textdata = testing['text']\n",
    "n = len(textdata)\n",
    "tokenizedtext = []\n",
    "\n",
    "for i in range(n):\n",
    "    #Convert text data to lowercase\n",
    "    lower = textdata.iloc[i].lower()\n",
    "    \n",
    "    #Tokenize\n",
    "    wordsarray = tokenizer.tokenize(lower)\n",
    "    tokenizedtext.append(wordsarray)\n",
    "#Removing stop words using nlkt\n",
    "englishstopwords = set(stopwords.words('english'))\n",
    "shortertext = []\n",
    "\n",
    "for tweet in tokenizedtext:\n",
    "    shortertweet = []\n",
    "    for word in tweet:\n",
    "        if word not in englishstopwords:\n",
    "            word = word.strip()\n",
    "            if (word.isdigit() == False and len(word) >= 2):\n",
    "                shortertweet.append(word)\n",
    "    shortertext.append(shortertweet)\n",
    "#Stemming using PorterStemmer\n",
    "stemmedtext = []\n",
    "for tweet in shortertext:\n",
    "    stemmedwords = []\n",
    "    for word in tweet:\n",
    "        stemmedwords.append(porterstemmer.stem(word))\n",
    "    convertback = ' '.join(stemmedwords)\n",
    "    stemmedtext.append(convertback)\n",
    "#Vectorizing the text data using TFIDvectorizer for Modelling\n",
    "vectorizedtesting = tfid.transform(stemmedtext)\n",
    "\n",
    "test_predict = logisticRegr.predict(vectorizedtesting)"
   ]
  },
  {
   "cell_type": "code",
   "execution_count": 414,
   "id": "c717b967",
   "metadata": {
    "scrolled": false
   },
   "outputs": [
    {
     "data": {
      "image/png": "[encoded data removed]",
      "text/plain": [
       "<Figure size 576x576 with 1 Axes>"
      ]
     },
     "metadata": {},
     "output_type": "display_data"
    }
   ],
   "source": [
    "plt.figure(figsize = (8, 8))\n",
    "values = pd.DataFrame(test_predict).value_counts().values\n",
    "labels = ['positive', 'neutral', 'negative']\n",
    "plt.pie(values, labels=labels, textprops={'fontsize': 15}, autopct=\"%.2f\")\n",
    "plt.title('Sentiment Distribution Pie Chart of the 2021-2022 Climate Change tweets (75.5% Accuracy)', fontsize=20)\n",
    "plt.show()"
   ]
  },
  {
   "cell_type": "code",
   "execution_count": 416,
   "id": "d3521a76",
   "metadata": {},
   "outputs": [
    {
     "data": {
      "image/png": "[encoded data removed]",
      "text/plain": [
       "<Figure size 648x360 with 1 Axes>"
      ]
     },
     "metadata": {
      "needs_background": "light"
     },
     "output_type": "display_data"
    }
   ],
   "source": [
    "labels = ['positive', 'neutral', 'negative']\n",
    "fig, ax = plt.subplots(figsize=(9,5))\n",
    "bars = ax.bar([-1, 0, 1], values)\n",
    "ax.set_xticks([-1, 0, 1])\n",
    "ax.set_xticklabels(labels)\n",
    "ax.set_ylabel('Number of tweets')\n",
    "ax.set_title(\"Sentiment Distribution Bar Chart of the 2021-2022 Climate Change tweets (75.5% Accuracy)\")\n",
    "ax.bar_label(bars)\n",
    "\n",
    "plt.show()"
   ]
  },
  {
   "cell_type": "markdown",
   "id": "397bac32",
   "metadata": {},
   "source": [
    "### Predicting Sentiments of tweets from 5 years ago (2016-2017)"
   ]
  },
  {
   "cell_type": "code",
   "execution_count": 417,
   "id": "87aa5662",
   "metadata": {},
   "outputs": [],
   "source": [
    "logisticRegr = LogisticRegression(C=1000000,solver='lbfgs',max_iter=1000000)\n",
    "logisticRegr.fit(x_train,y_train)\n",
    "score = logisticRegr.score(x_test,y_test)\n",
    "testing = pd.read_csv('5yearsago.csv')\n",
    "#Tokenize the text data using RegexpTokenizer\n",
    "textdata = testing['text']\n",
    "n = len(textdata)\n",
    "tokenizedtext = []\n",
    "\n",
    "for i in range(n):\n",
    "    #Convert text data to lowercase\n",
    "    lower = textdata.iloc[i].lower()\n",
    "    \n",
    "    #Tokenize\n",
    "    wordsarray = tokenizer.tokenize(lower)\n",
    "    tokenizedtext.append(wordsarray)\n",
    "#Removing stop words using nlkt\n",
    "englishstopwords = set(stopwords.words('english'))\n",
    "shortertext = []\n",
    "\n",
    "for tweet in tokenizedtext:\n",
    "    shortertweet = []\n",
    "    for word in tweet:\n",
    "        if word not in englishstopwords:\n",
    "            word = word.strip()\n",
    "            if (word.isdigit() == False and len(word) >= 2):\n",
    "                shortertweet.append(word)\n",
    "    shortertext.append(shortertweet)\n",
    "#Stemming using PorterStemmer\n",
    "stemmedtext = []\n",
    "for tweet in shortertext:\n",
    "    stemmedwords = []\n",
    "    for word in tweet:\n",
    "        stemmedwords.append(porterstemmer.stem(word))\n",
    "    convertback = ' '.join(stemmedwords)\n",
    "    stemmedtext.append(convertback)\n",
    "#Vectorizing the text data using TFIDvectorizer for Modelling\n",
    "vectorizedtesting = tfid.transform(stemmedtext)\n",
    "\n",
    "test_predict = logisticRegr.predict(vectorizedtesting)"
   ]
  },
  {
   "cell_type": "code",
   "execution_count": 418,
   "id": "a1f08ec6",
   "metadata": {},
   "outputs": [
    {
     "data": {
      "image/png": "[encoded data removed]",
      "text/plain": [
       "<Figure size 576x576 with 1 Axes>"
      ]
     },
     "metadata": {},
     "output_type": "display_data"
    }
   ],
   "source": [
    "plt.figure(figsize = (8, 8))\n",
    "values = pd.DataFrame(test_predict).value_counts().values\n",
    "labels = ['positive', 'neutral', 'negative']\n",
    "plt.pie(values, labels=labels, textprops={'fontsize': 15}, autopct=\"%.2f\")\n",
    "plt.title('Sentiment Distribution of the 2016-2017 Climate Change tweets (75.5% accuracy)', fontsize=20)\n",
    "plt.show()"
   ]
  },
  {
   "cell_type": "code",
   "execution_count": 419,
   "id": "9b6c8a1c",
   "metadata": {},
   "outputs": [
    {
     "data": {
      "image/png": "[encoded data removed]",
      "text/plain": [
       "<Figure size 648x360 with 1 Axes>"
      ]
     },
     "metadata": {
      "needs_background": "light"
     },
     "output_type": "display_data"
    }
   ],
   "source": [
    "labels = ['positive', 'neutral', 'negative']\n",
    "fig, ax = plt.subplots(figsize=(9,5))\n",
    "bars = ax.bar([-1, 0, 1], values)\n",
    "ax.set_xticks([-1, 0, 1])\n",
    "ax.set_xticklabels(labels)\n",
    "ax.set_ylabel('Number of tweets')\n",
    "ax.set_title(\"Sentiment Distribution Bar Chart of the 2021-2022 Climate Change tweets (75.5% Accuracy)\")\n",
    "ax.bar_label(bars)\n",
    "\n",
    "plt.show()"
   ]
  },
  {
   "cell_type": "code",
   "execution_count": null,
   "id": "68d7a6ae",
   "metadata": {},
   "outputs": [],
   "source": []
  }
 ],
 "metadata": {
  "kernelspec": {
   "display_name": "Python 3 (ipykernel)",
   "language": "python",
   "name": "python3"
  },
  "language_info": {
   "codemirror_mode": {
    "name": "ipython",
    "version": 3
   },
   "file_extension": ".py",
   "mimetype": "text/x-python",
   "name": "python",
   "nbconvert_exporter": "python",
   "pygments_lexer": "ipython3",
   "version": "3.9.7"
  }
 },
 "nbformat": 4,
 "nbformat_minor": 5
}
